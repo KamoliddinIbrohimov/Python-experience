{
 "cells": [
  {
   "cell_type": "code",
   "execution_count": 1,
   "id": "f6e3df33-8c87-4ac2-a9cb-f4873ed057ad",
   "metadata": {},
   "outputs": [
    {
     "data": {
      "text/plain": [
       "{'Carlsen': 2842,\n",
       " 'Caruana': 2822,\n",
       " 'Mamedyarov': 2801,\n",
       " 'Ding': 2797,\n",
       " 'Giri': 2780}"
      ]
     },
     "execution_count": 1,
     "metadata": {},
     "output_type": "execute_result"
    }
   ],
   "source": [
    "players = {\n",
    "            'Carlsen' : 2842,\n",
    "            'Caruana' : 2822,\n",
    "            'Mamedyarov' : 2801,\n",
    "            'Ding' : 2797,\n",
    "            'Giri' : 2780,\n",
    "          }\n",
    "players = dict(Carlsen=2842, Caruana=2822, Mamedyarov=2801, Ding=2797, Giri =2780)\n",
    "players"
   ]
  },
  {
   "cell_type": "code",
   "execution_count": 2,
   "id": "6c8678dc-3763-4ff0-9c2e-2d57c714a379",
   "metadata": {},
   "outputs": [
    {
     "name": "stdout",
     "output_type": "stream",
     "text": [
      "Top chass player's rating is 2842\n"
     ]
    }
   ],
   "source": [
    "top1 =players['Carlsen']\n",
    "print(f\"Top chass player's rating is {top1}\")\n",
    "#extract values by key"
   ]
  },
  {
   "cell_type": "code",
   "execution_count": 3,
   "id": "1ad78076-4443-4393-add5-fe41f2b44dcd",
   "metadata": {},
   "outputs": [
    {
     "data": {
      "text/plain": [
       "2842"
      ]
     },
     "execution_count": 3,
     "metadata": {},
     "output_type": "execute_result"
    }
   ],
   "source": [
    "players.get(\"Carlsen\")"
   ]
  },
  {
   "cell_type": "code",
   "execution_count": 4,
   "id": "25c59790-cd8c-459d-b6a4-e5858ade8050",
   "metadata": {},
   "outputs": [
    {
     "data": {
      "text/plain": [
       "{'Carlsen': 2842,\n",
       " 'Caruana': 2822,\n",
       " 'Mamedyarov': 2801,\n",
       " 'Ding': 2797,\n",
       " 'Giri': 2780,\n",
       " 'So': 2780}"
      ]
     },
     "execution_count": 4,
     "metadata": {},
     "output_type": "execute_result"
    }
   ],
   "source": [
    "players['So'] = 2780\n",
    "players\n",
    "#adding key and value"
   ]
  },
  {
   "cell_type": "code",
   "execution_count": 5,
   "id": "427f73c1-ca02-4229-909b-bef7cdf89a68",
   "metadata": {},
   "outputs": [
    {
     "data": {
      "text/plain": [
       "{'Carlsen': 2842,\n",
       " 'Caruana': 2822,\n",
       " 'Mamedyarov': 2801,\n",
       " 'Ding': 2797,\n",
       " 'Giri': 2780,\n",
       " 'So': 2781}"
      ]
     },
     "execution_count": 5,
     "metadata": {},
     "output_type": "execute_result"
    }
   ],
   "source": [
    "players['So'] = 2781\n",
    "players\n",
    "#change value by key"
   ]
  },
  {
   "cell_type": "code",
   "execution_count": 6,
   "id": "50fa6f26-18bb-477d-87a0-10268f705a27",
   "metadata": {},
   "outputs": [
    {
     "data": {
      "text/plain": [
       "{'Carlsen': 2842,\n",
       " 'Caruana': 2822,\n",
       " 'Mamedyarov': 2801,\n",
       " 'Ding': 2797,\n",
       " 'Giri': 2780}"
      ]
     },
     "execution_count": 6,
     "metadata": {},
     "output_type": "execute_result"
    }
   ],
   "source": [
    "del players['So']\n",
    "players\n",
    "#deleat"
   ]
  },
  {
   "cell_type": "code",
   "execution_count": 7,
   "id": "1128d953-5cc9-41d4-a27a-538fb46eaca4",
   "metadata": {},
   "outputs": [
    {
     "name": "stdout",
     "output_type": "stream",
     "text": [
      "<class 'dict_keys'>\n",
      "dict_keys(['Carlsen', 'Caruana', 'Mamedyarov', 'Ding', 'Giri'])\n"
     ]
    }
   ],
   "source": [
    "keys = players.keys()\n",
    "print(type(keys))\n",
    "print(keys)\n",
    "#view all keys"
   ]
  },
  {
   "cell_type": "code",
   "execution_count": 8,
   "id": "0d74d3d9-1c4d-45ab-bd1e-79e1c7b49bc2",
   "metadata": {},
   "outputs": [
    {
     "name": "stdout",
     "output_type": "stream",
     "text": [
      "<class 'list'>\n",
      "['Carlsen', 'Caruana', 'Mamedyarov', 'Ding', 'Giri']\n"
     ]
    }
   ],
   "source": [
    "l = list(players.keys())\n",
    "print(type(l))\n",
    "print(l)\n",
    "#change key type"
   ]
  },
  {
   "cell_type": "code",
   "execution_count": 9,
   "id": "b5d2a13b-1c8d-45e5-8c1c-e7ec7af1ebf5",
   "metadata": {},
   "outputs": [
    {
     "data": {
      "text/plain": [
       "['Carlsen', 'Caruana', 'Ding', 'Giri', 'Mamedyarov']"
      ]
     },
     "execution_count": 9,
     "metadata": {},
     "output_type": "execute_result"
    }
   ],
   "source": [
    "sorted(players.keys())\n",
    "#sorting"
   ]
  },
  {
   "cell_type": "code",
   "execution_count": 10,
   "id": "00d14d4d-3ca4-4d10-b6f5-2861c3ca2ad1",
   "metadata": {},
   "outputs": [
    {
     "name": "stdout",
     "output_type": "stream",
     "text": [
      "True\n",
      "True\n"
     ]
    }
   ],
   "source": [
    "print('Carlsen' in players)\n",
    "print('Kramnik' not in players)\n",
    "#Check if there is a key in a different way"
   ]
  },
  {
   "cell_type": "code",
   "execution_count": 11,
   "id": "57698894-3379-4973-af31-a020d9e13795",
   "metadata": {},
   "outputs": [
    {
     "name": "stdout",
     "output_type": "stream",
     "text": [
      "<class 'dict_values'>\n",
      "dict_values([2842, 2822, 2801, 2797, 2780])\n"
     ]
    }
   ],
   "source": [
    "values = players.values()\n",
    "print(type(values))\n",
    "print(values)\n",
    "#view values"
   ]
  },
  {
   "cell_type": "code",
   "execution_count": 12,
   "id": "5c90a1db-d084-41f5-8aab-2969b5a77cb4",
   "metadata": {},
   "outputs": [
    {
     "data": {
      "text/plain": [
       "[2780, 2797, 2801, 2822, 2842]"
      ]
     },
     "execution_count": 12,
     "metadata": {},
     "output_type": "execute_result"
    }
   ],
   "source": [
    "sorted(players.values())\n",
    "#sorting"
   ]
  },
  {
   "cell_type": "code",
   "execution_count": 13,
   "id": "a4489a3a-bcd2-4565-bbab-399b91724ae5",
   "metadata": {},
   "outputs": [
    {
     "name": "stdout",
     "output_type": "stream",
     "text": [
      "{'Carlsen': 2842, 'Caruana': 2822, 'Mamedyarov': 2801, 'Ding': 2797, 'Giri': 2780}\n"
     ]
    }
   ],
   "source": [
    "players_copy = players.copy()\n",
    "print(players_copy)\n",
    "#copy from the dictionary"
   ]
  },
  {
   "cell_type": "code",
   "execution_count": 15,
   "id": "949f244a-c530-4eca-96c4-bdbb2fcd5e7a",
   "metadata": {},
   "outputs": [
    {
     "name": "stdout",
     "output_type": "stream",
     "text": [
      "Carlsen 2842\n",
      "Caruana 2822\n",
      "Mamedyarov 2801\n",
      "Ding 2797\n",
      "Giri 2780\n"
     ]
    }
   ],
   "source": [
    "for k, v in players.items():\n",
    "    print(k, v)\n",
    "\n",
    "#cycle printing"
   ]
  },
  {
   "cell_type": "code",
   "execution_count": 16,
   "id": "e6bc8f82-184c-4cbd-af1d-c786017cef9d",
   "metadata": {},
   "outputs": [
    {
     "name": "stdout",
     "output_type": "stream",
     "text": [
      "<class 'dict_items'>\n"
     ]
    }
   ],
   "source": [
    "items = players.items()\n",
    "print(type(items))"
   ]
  },
  {
   "cell_type": "code",
   "execution_count": 17,
   "id": "6be85332-46c3-4e79-87f0-0a7480e60007",
   "metadata": {},
   "outputs": [
    {
     "name": "stdout",
     "output_type": "stream",
     "text": [
      "{'Carlsen': 2842, 'Caruana': 2822, 'Mamedyarov': 2801, 'Ding': 2797}\n"
     ]
    }
   ],
   "source": [
    "players.pop('Giri')\n",
    "print(players)\n",
    "\n",
    "#delete exactly one dictionary item"
   ]
  },
  {
   "cell_type": "code",
   "execution_count": 18,
   "id": "ac804ae5-8174-44e6-9229-e19cfdafb59f",
   "metadata": {},
   "outputs": [
    {
     "name": "stdout",
     "output_type": "stream",
     "text": [
      "('Ding', 2797)\n",
      "{'Carlsen': 2842, 'Caruana': 2822, 'Mamedyarov': 2801}\n"
     ]
    }
   ],
   "source": [
    "print(players.popitem())\n",
    "print(players)\n",
    "\n",
    "#delete the last dictionary item"
   ]
  },
  {
   "cell_type": "code",
   "execution_count": 19,
   "id": "b23a962e-2778-464a-abc2-dff90b77f243",
   "metadata": {},
   "outputs": [
    {
     "data": {
      "text/plain": [
       "3"
      ]
     },
     "execution_count": 19,
     "metadata": {},
     "output_type": "execute_result"
    }
   ],
   "source": [
    "len(players)\n",
    "\n",
    "#determine the number of elements"
   ]
  },
  {
   "cell_type": "code",
   "execution_count": 20,
   "id": "42b39770-e5c1-42fc-a236-e2420a76671a",
   "metadata": {},
   "outputs": [
    {
     "data": {
      "text/plain": [
       "{'Carlsen': 2842, 'Caruana': 2822, 'Mamedyarov': 2801, 'Karjakin': None}"
      ]
     },
     "execution_count": 20,
     "metadata": {},
     "output_type": "execute_result"
    }
   ],
   "source": [
    "players.setdefault('Karjakin')\n",
    "players\n",
    "\n",
    "#determine the number of elements"
   ]
  },
  {
   "cell_type": "code",
   "execution_count": null,
   "id": "d1d427ab-5dac-44d9-b9c2-28731424ea14",
   "metadata": {},
   "outputs": [],
   "source": [
    "!!!"
   ]
  }
 ],
 "metadata": {
  "kernelspec": {
   "display_name": "Python 3 (ipykernel)",
   "language": "python",
   "name": "python3"
  },
  "language_info": {
   "codemirror_mode": {
    "name": "ipython",
    "version": 3
   },
   "file_extension": ".py",
   "mimetype": "text/x-python",
   "name": "python",
   "nbconvert_exporter": "python",
   "pygments_lexer": "ipython3",
   "version": "3.10.6"
  }
 },
 "nbformat": 4,
 "nbformat_minor": 5
}
