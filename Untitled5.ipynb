{
 "cells": [
  {
   "cell_type": "code",
   "execution_count": 1,
   "id": "563aed24-1708-474c-be84-1e9352f81ea8",
   "metadata": {},
   "outputs": [],
   "source": [
    "int_list = [1,2,5,6,8]"
   ]
  },
  {
   "cell_type": "code",
   "execution_count": 2,
   "id": "b898440f-346e-40f9-a55b-cce40b443bfa",
   "metadata": {},
   "outputs": [],
   "source": [
    "mixed_list = [1,2,5, 'string']"
   ]
  },
  {
   "cell_type": "code",
   "execution_count": 3,
   "id": "98502870-8fe5-4edc-bd93-8588e627439d",
   "metadata": {},
   "outputs": [
    {
     "data": {
      "text/plain": [
       "5"
      ]
     },
     "execution_count": 3,
     "metadata": {},
     "output_type": "execute_result"
    }
   ],
   "source": [
    "len(int_list)#determine the length of the list"
   ]
  },
  {
   "cell_type": "code",
   "execution_count": 4,
   "id": "b14c7d1d-775a-4d3b-890c-f32936833a9e",
   "metadata": {},
   "outputs": [
    {
     "name": "stdout",
     "output_type": "stream",
     "text": [
      "1\n",
      "8\n"
     ]
    }
   ],
   "source": [
    "print(int_list[0])\n",
    "print(int_list[-1])"
   ]
  },
  {
   "cell_type": "code",
   "execution_count": 5,
   "id": "822eec16-1a68-44c2-8cdc-7c7f597d46bc",
   "metadata": {},
   "outputs": [
    {
     "data": {
      "text/plain": [
       "[5, 6, 8]"
      ]
     },
     "execution_count": 5,
     "metadata": {},
     "output_type": "execute_result"
    }
   ],
   "source": [
    "int_list[2:]"
   ]
  },
  {
   "cell_type": "code",
   "execution_count": 6,
   "id": "7b9f5d75-a190-42e4-bbc9-3cb80054d44f",
   "metadata": {},
   "outputs": [
    {
     "data": {
      "text/plain": [
       "['John', 'Bob', 'Alice', 'Tracy', 'Elijah', 'Mason']"
      ]
     },
     "execution_count": 6,
     "metadata": {},
     "output_type": "execute_result"
    }
   ],
   "source": [
    "names1 = ['John', 'Bob', 'Alice']\n",
    "names2 = ['Tracy', 'Elijah', 'Mason']\n",
    "\n",
    "names_combined = names1 + names2\n",
    "names_combined\n",
    "#concatenation of lists"
   ]
  },
  {
   "cell_type": "code",
   "execution_count": 7,
   "id": "adcfd0a9-303c-4f26-9c09-85c0a4353281",
   "metadata": {},
   "outputs": [
    {
     "data": {
      "text/plain": [
       "['Liam', 'Bob', 'Alice']"
      ]
     },
     "execution_count": 7,
     "metadata": {},
     "output_type": "execute_result"
    }
   ],
   "source": [
    "names1[0] = 'Liam'\n",
    "names1\n",
    "#change an object at a given index"
   ]
  },
  {
   "cell_type": "code",
   "execution_count": 8,
   "id": "a3cbd066-a1cc-4032-bd59-7ecd30c57730",
   "metadata": {},
   "outputs": [
    {
     "data": {
      "text/plain": [
       "['Liam', 'Bob', 'Alice', 'William', 'James']"
      ]
     },
     "execution_count": 8,
     "metadata": {},
     "output_type": "execute_result"
    }
   ],
   "source": [
    "names1.append('William')\n",
    "names1.append('James')\n",
    "names1\n",
    "#Add object"
   ]
  },
  {
   "cell_type": "code",
   "execution_count": 9,
   "id": "f3b424fa-dae4-41a1-ae40-489a3e605cbb",
   "metadata": {},
   "outputs": [
    {
     "name": "stdout",
     "output_type": "stream",
     "text": [
      "James\n",
      "['Liam', 'Bob', 'Alice', 'William']\n"
     ]
    }
   ],
   "source": [
    "poped = names1.pop()\n",
    "print(poped)\n",
    "print(names1)\n",
    "#delete object"
   ]
  },
  {
   "cell_type": "code",
   "execution_count": 10,
   "id": "bf1d448e-0349-47f5-a411-8dadf6a9940f",
   "metadata": {},
   "outputs": [],
   "source": [
    "poped = names1.pop(1)"
   ]
  },
  {
   "cell_type": "code",
   "execution_count": 11,
   "id": "91fbd671-69ef-4086-8d3f-223c451a02ae",
   "metadata": {},
   "outputs": [
    {
     "data": {
      "text/plain": [
       "['Liam', 'Alice', 'William']"
      ]
     },
     "execution_count": 11,
     "metadata": {},
     "output_type": "execute_result"
    }
   ],
   "source": [
    "names1"
   ]
  },
  {
   "cell_type": "code",
   "execution_count": 12,
   "id": "a9cc225f-15c7-4637-9553-87af1d7ff8ba",
   "metadata": {},
   "outputs": [
    {
     "data": {
      "text/plain": [
       "['Alice', 'Bob', 'Liam', 'William']"
      ]
     },
     "execution_count": 12,
     "metadata": {},
     "output_type": "execute_result"
    }
   ],
   "source": [
    "names1.append('Bob')\n",
    "names1.sort()\n",
    "names1\n",
    "#Sort alphabetically"
   ]
  },
  {
   "cell_type": "code",
   "execution_count": 13,
   "id": "14299f57-dade-4dbd-969a-94b6781e562c",
   "metadata": {},
   "outputs": [
    {
     "name": "stdout",
     "output_type": "stream",
     "text": [
      "['a', 'ab', 'abc']\n"
     ]
    }
   ],
   "source": [
    "letters = ['abc', 'a', 'ab']\n",
    "letters.sort(key=len)\n",
    "print(letters)"
   ]
  },
  {
   "cell_type": "code",
   "execution_count": 14,
   "id": "67883c27-9fc6-47c5-916b-ff0f2d9ef203",
   "metadata": {},
   "outputs": [
    {
     "name": "stdout",
     "output_type": "stream",
     "text": [
      "[3, 8, 4, 8, 6, 4, 6, 2]\n",
      "[2, 3, 4, 4, 6, 6, 8, 8]\n"
     ]
    }
   ],
   "source": [
    "numbers = [3,8,4,8,6,4,6,2]\n",
    "print(numbers)\n",
    "numbers.sort()\n",
    "print(numbers)"
   ]
  },
  {
   "cell_type": "code",
   "execution_count": 15,
   "id": "3bb058df-90e9-451f-9490-605a8ff1d3d9",
   "metadata": {},
   "outputs": [
    {
     "data": {
      "text/plain": [
       "[2, 6, 4, 6, 8, 4, 8, 3]"
      ]
     },
     "execution_count": 15,
     "metadata": {},
     "output_type": "execute_result"
    }
   ],
   "source": [
    "numbers = [3,8,4,8,6,4,6,2]\n",
    "numbers.reverse()\n",
    "numbers\n",
    "#reverse the objects of the list"
   ]
  },
  {
   "cell_type": "code",
   "execution_count": 16,
   "id": "1b89fb5d-5a4e-4e83-adec-3ed4ffb70e03",
   "metadata": {},
   "outputs": [
    {
     "data": {
      "text/plain": [
       "[8, 8, 6, 6, 4, 4, 3, 2]"
      ]
     },
     "execution_count": 16,
     "metadata": {},
     "output_type": "execute_result"
    }
   ],
   "source": [
    "numbers = [3,8,4,8,6,4,6,2]\n",
    "numbers.sort(reverse=True)\n",
    "numbers\n",
    "#reverse order of list objects"
   ]
  },
  {
   "cell_type": "code",
   "execution_count": 17,
   "id": "76065681-c1c2-4f0f-9beb-666c6602d1aa",
   "metadata": {},
   "outputs": [
    {
     "data": {
      "text/plain": [
       "[8, 88, 8, 6, 6, 4, 4, 3, 2]"
      ]
     },
     "execution_count": 17,
     "metadata": {},
     "output_type": "execute_result"
    }
   ],
   "source": [
    "numbers.insert(1, 88)\n",
    "numbers"
   ]
  },
  {
   "cell_type": "code",
   "execution_count": 19,
   "id": "28ba8e32-8a35-415c-a891-00abb66e663e",
   "metadata": {},
   "outputs": [
    {
     "data": {
      "text/plain": [
       "5"
      ]
     },
     "execution_count": 19,
     "metadata": {},
     "output_type": "execute_result"
    }
   ],
   "source": [
    "numbers.index(4)\n",
    "#reverse order of list objects"
   ]
  },
  {
   "cell_type": "code",
   "execution_count": 20,
   "id": "6e1c6872-f79a-41ef-8cbe-948d185a5707",
   "metadata": {},
   "outputs": [
    {
     "name": "stdout",
     "output_type": "stream",
     "text": [
      "2\n"
     ]
    }
   ],
   "source": [
    "print(numbers.count(4))\n",
    "#to determine how many such arbuments there are"
   ]
  },
  {
   "cell_type": "code",
   "execution_count": 21,
   "id": "1443eb1c-59ca-4417-9643-52731c1b1fa0",
   "metadata": {},
   "outputs": [
    {
     "name": "stdout",
     "output_type": "stream",
     "text": [
      "[8, 88, 8, 6, 6, 4, 4, 3, 2]\n"
     ]
    }
   ],
   "source": [
    "copy = numbers.copy()\n",
    "print(copy)\n",
    "#copy from list"
   ]
  },
  {
   "cell_type": "code",
   "execution_count": 22,
   "id": "7a31f9c4-5aee-4cbe-8053-962828d12b9f",
   "metadata": {},
   "outputs": [
    {
     "data": {
      "text/plain": [
       "[]"
      ]
     },
     "execution_count": 22,
     "metadata": {},
     "output_type": "execute_result"
    }
   ],
   "source": [
    "numbers.clear()\n",
    "numbers\n",
    "#clear the list"
   ]
  },
  {
   "cell_type": "code",
   "execution_count": null,
   "id": "ace624c3-2b2f-429b-a654-2f37e90f9e7c",
   "metadata": {},
   "outputs": [],
   "source": []
  }
 ],
 "metadata": {
  "kernelspec": {
   "display_name": "Python 3 (ipykernel)",
   "language": "python",
   "name": "python3"
  },
  "language_info": {
   "codemirror_mode": {
    "name": "ipython",
    "version": 3
   },
   "file_extension": ".py",
   "mimetype": "text/x-python",
   "name": "python",
   "nbconvert_exporter": "python",
   "pygments_lexer": "ipython3",
   "version": "3.10.6"
  }
 },
 "nbformat": 4,
 "nbformat_minor": 5
}
