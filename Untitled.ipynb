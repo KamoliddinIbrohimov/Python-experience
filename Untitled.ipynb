{
 "cells": [
  {
   "cell_type": "code",
   "execution_count": 1,
   "id": "410a18b8-134e-48cd-9db6-cb3cdb74a658",
   "metadata": {},
   "outputs": [
    {
     "data": {
      "text/plain": [
       "'string'"
      ]
     },
     "execution_count": 1,
     "metadata": {},
     "output_type": "execute_result"
    }
   ],
   "source": [
    "'string'"
   ]
  },
  {
   "cell_type": "code",
   "execution_count": 2,
   "id": "1d1e3d65-e7a7-4b51-aa8c-842515a440f9",
   "metadata": {},
   "outputs": [
    {
     "data": {
      "text/plain": [
       "'string'"
      ]
     },
     "execution_count": 2,
     "metadata": {},
     "output_type": "execute_result"
    }
   ],
   "source": [
    "\"string\""
   ]
  },
  {
   "cell_type": "code",
   "execution_count": 3,
   "id": "9f52dc3e-6109-49e7-9621-8c59dc0768df",
   "metadata": {},
   "outputs": [],
   "source": [
    "#a string can be represented as double-quoted 'str', \"str\""
   ]
  },
  {
   "cell_type": "code",
   "execution_count": 5,
   "id": "42ce90b3-8fe6-4743-9035-d101b0ee4f82",
   "metadata": {},
   "outputs": [
    {
     "data": {
      "text/plain": [
       "\"I'am Elies\""
      ]
     },
     "execution_count": 5,
     "metadata": {},
     "output_type": "execute_result"
    }
   ],
   "source": [
    "\"I'am Elies\""
   ]
  },
  {
   "cell_type": "code",
   "execution_count": 6,
   "id": "3d2d8a3c-046c-4d11-a62a-47ad57160076",
   "metadata": {},
   "outputs": [
    {
     "data": {
      "text/plain": [
       "'Elies is a \"strong\" programmer'"
      ]
     },
     "execution_count": 6,
     "metadata": {},
     "output_type": "execute_result"
    }
   ],
   "source": [
    "'Elies is a \"strong\" programmer'"
   ]
  },
  {
   "cell_type": "code",
   "execution_count": 7,
   "id": "73371618-20d2-4db6-bd34-3342252b0fd0",
   "metadata": {},
   "outputs": [],
   "source": [
    "#'I'am Elies and I'am a \"strong\" programer'\n",
    "\n",
    "#quotes and single quotes cannot be used in this form,\n",
    "#there are special methods for this"
   ]
  },
  {
   "cell_type": "code",
   "execution_count": 8,
   "id": "bb63deef-bf77-4898-ab80-4277feb1807f",
   "metadata": {},
   "outputs": [
    {
     "name": "stdout",
     "output_type": "stream",
     "text": [
      "I'am Elies and I'am a \"stron\" programmer\n"
     ]
    }
   ],
   "source": [
    "print(\"I'am Elies and I'am a \\\"stron\\\" programmer\")"
   ]
  },
  {
   "cell_type": "code",
   "execution_count": 9,
   "id": "6428dcd5-f985-4ec4-ad68-f4507a0cfb13",
   "metadata": {},
   "outputs": [
    {
     "data": {
      "text/plain": [
       "'C:\\\\User\\\\EnginersPack'"
      ]
     },
     "execution_count": 9,
     "metadata": {},
     "output_type": "execute_result"
    }
   ],
   "source": [
    "'C:\\\\User\\\\EnginersPack'\n",
    "\n",
    "#'C:\\User\\EnginersPack'\n",
    "#cannot be used in this case"
   ]
  },
  {
   "cell_type": "code",
   "execution_count": 10,
   "id": "e20749d1-089b-454d-9f8f-64ce35321270",
   "metadata": {},
   "outputs": [
    {
     "name": "stdout",
     "output_type": "stream",
     "text": [
      "C:\\User\\EnginersPack\n"
     ]
    }
   ],
   "source": [
    "print('C:\\\\User\\\\EnginersPack')"
   ]
  },
  {
   "cell_type": "code",
   "execution_count": 13,
   "id": "1125ddb5-cdec-4b3f-9fd7-60458077cd3d",
   "metadata": {},
   "outputs": [
    {
     "name": "stdout",
     "output_type": "stream",
     "text": [
      "C:\\User\\EnginersPack\n"
     ]
    }
   ],
   "source": [
    "print(r'C:\\User\\EnginersPack')"
   ]
  },
  {
   "cell_type": "code",
   "execution_count": 21,
   "id": "6db367d0-addf-4ac0-b746-d3bb824744d1",
   "metadata": {},
   "outputs": [
    {
     "name": "stdout",
     "output_type": "stream",
     "text": [
      "I'am Elies and\n",
      "I'am a \tprogrammer\n"
     ]
    }
   ],
   "source": [
    "print(\"I'am Elies and\\r\\nI'am a \\tprogrammer\")\n",
    "#https://pythonworld.ru/tipy-dannyx-v-python/stroki-literaly-strok.html"
   ]
  },
  {
   "cell_type": "code",
   "execution_count": 23,
   "id": "1966c771-1d95-46d8-9e52-55414085a0ae",
   "metadata": {},
   "outputs": [
    {
     "name": "stdout",
     "output_type": "stream",
     "text": [
      "hello\n"
     ]
    }
   ],
   "source": [
    "hello = str(\"hello\")\n",
    "print(hello)"
   ]
  },
  {
   "cell_type": "code",
   "execution_count": 24,
   "id": "5447cf44-ff08-4ed0-87eb-c945264cf9ff",
   "metadata": {},
   "outputs": [],
   "source": [
    "greeting = str(\"Hello, my name is Elies\")"
   ]
  },
  {
   "cell_type": "code",
   "execution_count": 25,
   "id": "ff5056e6-38c9-42bb-aab5-5626d5702f0f",
   "metadata": {},
   "outputs": [
    {
     "data": {
      "text/plain": [
       "'H'"
      ]
     },
     "execution_count": 25,
     "metadata": {},
     "output_type": "execute_result"
    }
   ],
   "source": [
    "greeting[0]"
   ]
  },
  {
   "cell_type": "code",
   "execution_count": 26,
   "id": "f31f1f8d-9f7b-4079-81fa-2962a3282627",
   "metadata": {},
   "outputs": [
    {
     "data": {
      "text/plain": [
       "'l'"
      ]
     },
     "execution_count": 26,
     "metadata": {},
     "output_type": "execute_result"
    }
   ],
   "source": [
    "greeting[3]"
   ]
  },
  {
   "cell_type": "code",
   "execution_count": 27,
   "id": "d9a4ff3b-22b8-4303-a733-bdfcca0ed869",
   "metadata": {},
   "outputs": [
    {
     "data": {
      "text/plain": [
       "'E'"
      ]
     },
     "execution_count": 27,
     "metadata": {},
     "output_type": "execute_result"
    }
   ],
   "source": [
    "greeting[18]"
   ]
  },
  {
   "cell_type": "code",
   "execution_count": 28,
   "id": "9d18e206-2f6a-4716-a360-f164d5f4d82f",
   "metadata": {},
   "outputs": [
    {
     "data": {
      "text/plain": [
       "'s'"
      ]
     },
     "execution_count": 28,
     "metadata": {},
     "output_type": "execute_result"
    }
   ],
   "source": [
    "greeting[-1]"
   ]
  },
  {
   "cell_type": "code",
   "execution_count": 29,
   "id": "01ed231a-5a65-489c-92fb-b5cbfe7c5b96",
   "metadata": {},
   "outputs": [
    {
     "data": {
      "text/plain": [
       "'E'"
      ]
     },
     "execution_count": 29,
     "metadata": {},
     "output_type": "execute_result"
    }
   ],
   "source": [
    "greeting[-5]"
   ]
  },
  {
   "cell_type": "code",
   "execution_count": 30,
   "id": "78161b68-b27f-4b70-b7f3-f00583635ff8",
   "metadata": {},
   "outputs": [
    {
     "ename": "TypeError",
     "evalue": "'str' object does not support item assignment",
     "output_type": "error",
     "traceback": [
      "\u001b[0;31m---------------------------------------------------------------------------\u001b[0m",
      "\u001b[0;31mTypeError\u001b[0m                                 Traceback (most recent call last)",
      "Cell \u001b[0;32mIn [30], line 1\u001b[0m\n\u001b[0;32m----> 1\u001b[0m \u001b[43mgreeting\u001b[49m\u001b[43m[\u001b[49m\u001b[38;5;241;43m0\u001b[39;49m\u001b[43m]\u001b[49m\u001b[38;5;241m=\u001b[39m\u001b[38;5;124m\"\u001b[39m\u001b[38;5;124mh\u001b[39m\u001b[38;5;124m\"\u001b[39m\n",
      "\u001b[0;31mTypeError\u001b[0m: 'str' object does not support item assignment"
     ]
    }
   ],
   "source": [
    "greeting[0]=\"h\""
   ]
  },
  {
   "cell_type": "code",
   "execution_count": 31,
   "id": "e7ca82d7-ce3e-40e6-8382-c42131b84795",
   "metadata": {},
   "outputs": [],
   "source": [
    "#string elements cannot be modified!"
   ]
  },
  {
   "cell_type": "code",
   "execution_count": 32,
   "id": "e913704f-6e03-4391-8c22-39236c9027c3",
   "metadata": {},
   "outputs": [
    {
     "data": {
      "text/plain": [
       "'hello'"
      ]
     },
     "execution_count": 32,
     "metadata": {},
     "output_type": "execute_result"
    }
   ],
   "source": [
    "new_greeting = \"hello\"\n",
    "new_greeting"
   ]
  },
  {
   "cell_type": "code",
   "execution_count": 33,
   "id": "c7ace07e-93ec-4f1f-a0d1-6c78017f669f",
   "metadata": {},
   "outputs": [
    {
     "data": {
      "text/plain": [
       "'Hello, my name is Elies'"
      ]
     },
     "execution_count": 33,
     "metadata": {},
     "output_type": "execute_result"
    }
   ],
   "source": [
    "greeting"
   ]
  },
  {
   "cell_type": "code",
   "execution_count": 34,
   "id": "9d0a0a46-d3b1-4b0a-b2bb-18c14b468a65",
   "metadata": {},
   "outputs": [
    {
     "data": {
      "text/plain": [
       "'llo, my name is Elies'"
      ]
     },
     "execution_count": 34,
     "metadata": {},
     "output_type": "execute_result"
    }
   ],
   "source": [
    "greeting[2:]"
   ]
  },
  {
   "cell_type": "code",
   "execution_count": 35,
   "id": "f4785e48-0913-4a73-9390-58fc57c87c67",
   "metadata": {},
   "outputs": [
    {
     "data": {
      "text/plain": [
       "'Hel'"
      ]
     },
     "execution_count": 35,
     "metadata": {},
     "output_type": "execute_result"
    }
   ],
   "source": [
    "greeting[0:3]"
   ]
  },
  {
   "cell_type": "code",
   "execution_count": 36,
   "id": "7ab29447-ff41-4cc0-adec-086f6e37911f",
   "metadata": {},
   "outputs": [
    {
     "data": {
      "text/plain": [
       "'Hello, my name is Elies'"
      ]
     },
     "execution_count": 36,
     "metadata": {},
     "output_type": "execute_result"
    }
   ],
   "source": [
    "greeting[::1]"
   ]
  },
  {
   "cell_type": "code",
   "execution_count": 37,
   "id": "73195ce3-6142-45a4-acce-4bbf8dc07c79",
   "metadata": {},
   "outputs": [
    {
     "data": {
      "text/plain": [
       "'Hlo ynm sEis'"
      ]
     },
     "execution_count": 37,
     "metadata": {},
     "output_type": "execute_result"
    }
   ],
   "source": [
    "greeting[::2]"
   ]
  },
  {
   "cell_type": "code",
   "execution_count": 38,
   "id": "f1966e43-839a-4bcd-980c-c625954767ac",
   "metadata": {},
   "outputs": [
    {
     "data": {
      "text/plain": [
       "'l,m aei le'"
      ]
     },
     "execution_count": 38,
     "metadata": {},
     "output_type": "execute_result"
    }
   ],
   "source": [
    "greeting[3:25:2]"
   ]
  },
  {
   "cell_type": "code",
   "execution_count": 39,
   "id": "b524ad79-27d8-4c5b-a729-6f3cf1634058",
   "metadata": {},
   "outputs": [
    {
     "data": {
      "text/plain": [
       "'My name is Elies'"
      ]
     },
     "execution_count": 39,
     "metadata": {},
     "output_type": "execute_result"
    }
   ],
   "source": [
    "\"My name is\"+\" \"+\"Elies\""
   ]
  },
  {
   "cell_type": "code",
   "execution_count": 40,
   "id": "9f689b65-80e2-4a69-adfe-43b5d82a5999",
   "metadata": {},
   "outputs": [
    {
     "name": "stdout",
     "output_type": "stream",
     "text": [
      "hello world\n",
      "hello world\n",
      "hello world\n"
     ]
    }
   ],
   "source": [
    "hello = \"hello\"\n",
    "world = \"world\"\n",
    "\n",
    "print(hello+\" \"+world)\n",
    "print(\"%s %s\" %(hello, world))\n",
    "print(\"{} {}\".format(hello, world))"
   ]
  },
  {
   "cell_type": "code",
   "execution_count": 41,
   "id": "5711a622-9bd8-48ee-ac51-ce79175e40de",
   "metadata": {},
   "outputs": [
    {
     "data": {
      "text/plain": [
       "'aaaaaaaa'"
      ]
     },
     "execution_count": 41,
     "metadata": {},
     "output_type": "execute_result"
    }
   ],
   "source": [
    "\"a\"*8"
   ]
  },
  {
   "cell_type": "code",
   "execution_count": 42,
   "id": "1aee7d69-25a9-4d28-912f-c3e01a2f4ec0",
   "metadata": {},
   "outputs": [
    {
     "data": {
      "text/plain": [
       "'23'"
      ]
     },
     "execution_count": 42,
     "metadata": {},
     "output_type": "execute_result"
    }
   ],
   "source": [
    "#2 + \"3\"\n",
    "#cannot add or multiply a string to a number\n",
    "\"2\" + \"3\""
   ]
  },
  {
   "cell_type": "code",
   "execution_count": null,
   "id": "d952a5d4-61f7-42fc-bcc6-fe4aa62d04fb",
   "metadata": {},
   "outputs": [],
   "source": []
  }
 ],
 "metadata": {
  "kernelspec": {
   "display_name": "Python 3 (ipykernel)",
   "language": "python",
   "name": "python3"
  },
  "language_info": {
   "codemirror_mode": {
    "name": "ipython",
    "version": 3
   },
   "file_extension": ".py",
   "mimetype": "text/x-python",
   "name": "python",
   "nbconvert_exporter": "python",
   "pygments_lexer": "ipython3",
   "version": "3.10.6"
  }
 },
 "nbformat": 4,
 "nbformat_minor": 5
}
