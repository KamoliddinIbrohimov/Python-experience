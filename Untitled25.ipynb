{
 "cells": [
  {
   "cell_type": "code",
   "execution_count": 1,
   "id": "316a5da4-13ad-4490-9810-4e8565a11eea",
   "metadata": {},
   "outputs": [],
   "source": [
    "class StaticTest:\n",
    "    x = 1"
   ]
  },
  {
   "cell_type": "code",
   "execution_count": 2,
   "id": "c49b65bb-7707-441f-b403-aa74d390b122",
   "metadata": {},
   "outputs": [],
   "source": [
    "t1 = StaticTest()"
   ]
  },
  {
   "cell_type": "code",
   "execution_count": 4,
   "id": "a60b5995-544d-4bf8-bb16-78753006628c",
   "metadata": {},
   "outputs": [
    {
     "name": "stdout",
     "output_type": "stream",
     "text": [
      "Via instance:1\n",
      "Via class: 1\n"
     ]
    }
   ],
   "source": [
    "print(f'Via instance:{t1.x}')\n",
    "print(f'Via class: {StaticTest.x}')"
   ]
  },
  {
   "cell_type": "code",
   "execution_count": 5,
   "id": "fd3bbca8-7412-4532-9d50-d2ca37e2b560",
   "metadata": {},
   "outputs": [],
   "source": [
    "StaticTest.x = 3"
   ]
  },
  {
   "cell_type": "code",
   "execution_count": 6,
   "id": "982038e9-cdcb-460b-b1cd-42447f817eb4",
   "metadata": {},
   "outputs": [
    {
     "name": "stdout",
     "output_type": "stream",
     "text": [
      "Via instance:3\n",
      "Via class: 3\n"
     ]
    }
   ],
   "source": [
    "print(f'Via instance:{t1.x}')\n",
    "print(f'Via class: {StaticTest.x}')"
   ]
  },
  {
   "cell_type": "code",
   "execution_count": 7,
   "id": "c5a9b4e0-9bec-4ee8-9470-723adab4a317",
   "metadata": {},
   "outputs": [],
   "source": [
    "t1.x = 2"
   ]
  },
  {
   "cell_type": "code",
   "execution_count": 8,
   "id": "200dfdf1-3a33-4497-b9a8-e0971de1addf",
   "metadata": {},
   "outputs": [
    {
     "name": "stdout",
     "output_type": "stream",
     "text": [
      "Via instance:2\n",
      "Via class: 3\n"
     ]
    }
   ],
   "source": [
    "print(f'Via instance:{t1.x}')\n",
    "print(f'Via class: {StaticTest.x}')"
   ]
  },
  {
   "cell_type": "code",
   "execution_count": 2,
   "id": "7a5cfac8-e30c-4632-89a3-75c2da6579b0",
   "metadata": {},
   "outputs": [],
   "source": [
    "class Date:\n",
    "    def __init__(self, manth, day, year):\n",
    "        self.manth = manth\n",
    "        self.day = day\n",
    "        self.year = year\n",
    "        \n",
    "    def display(self):\n",
    "        return f\"{self.day}-{self.manth}-{self.year}\"\n",
    "    \n",
    "    @classmethod\n",
    "    def millenium_c(cls, manth, day):\n",
    "        return cls(manth, day, 2000)\n",
    "    \n",
    "    @staticmethod\n",
    "    def millenium_s(manth, day):\n",
    "        return Date(manth, day, 2000)"
   ]
  },
  {
   "cell_type": "code",
   "execution_count": 3,
   "id": "1be19ea9-d8c6-4a3a-8a62-62522b44832f",
   "metadata": {},
   "outputs": [
    {
     "name": "stdout",
     "output_type": "stream",
     "text": [
      "9-6-2000\n",
      "9-6-2000\n"
     ]
    }
   ],
   "source": [
    "d1 = Date.millenium_c(6, 9)\n",
    "d2 = Date.millenium_s(6, 9)\n",
    "\n",
    "print(d1.display())\n",
    "print(d2.display())"
   ]
  },
  {
   "cell_type": "code",
   "execution_count": 4,
   "id": "a19f25d4-da64-48ec-87cd-cf5aa51dc9bc",
   "metadata": {},
   "outputs": [],
   "source": [
    "class DataTime(Date):\n",
    "    def display(self):\n",
    "        return f\"{self.day}-{self.manth}-{self.year} - 00:00:00PM\""
   ]
  },
  {
   "cell_type": "code",
   "execution_count": 6,
   "id": "caeeb99b-46b1-4aaf-ae27-adec3e83a084",
   "metadata": {},
   "outputs": [
    {
     "name": "stdout",
     "output_type": "stream",
     "text": [
      "True\n",
      "True\n",
      "False\n",
      "7-6-1999 - 00:00:00PM\n",
      "7-6-2000 - 00:00:00PM\n",
      "7-6-2000\n"
     ]
    }
   ],
   "source": [
    "dt1 = DataTime(6, 7, 1999)\n",
    "dt2 = DataTime.millenium_c(6, 7)\n",
    "dt3 = DataTime.millenium_s(6, 7)\n",
    "\n",
    "print(isinstance(dt1, DataTime))\n",
    "print(isinstance(dt2, DataTime))\n",
    "print(isinstance(dt3, DataTime))\n",
    "\n",
    "print(dt1.display())\n",
    "print(dt2.display())\n",
    "print(dt3.display())"
   ]
  },
  {
   "cell_type": "code",
   "execution_count": 7,
   "id": "d6449276-98fb-455b-b96c-ab0898390606",
   "metadata": {},
   "outputs": [],
   "source": [
    "class StrConcerter:\n",
    "    \n",
    "    @staticmethod\n",
    "    def to_str(bytes_or_str):\n",
    "        if isinstance(bytes_or_str, bytes):\n",
    "            value = bytes_or_str.decode('utf-8')\n",
    "        else:\n",
    "            value = bytes_or_str\n",
    "        return value\n",
    "    \n",
    "    @staticmethod\n",
    "    def to_bytes(bytes_or_str):\n",
    "        if isinstance(bytes_or_str, str):\n",
    "            value = bytes_or_str.encode('utf-8')\n",
    "        else:\n",
    "            value = bytes_or_str.encode('utf-8')\n",
    "        return value"
   ]
  },
  {
   "cell_type": "code",
   "execution_count": 8,
   "id": "d47f804c-d4ba-43d9-8e84-f6cae118c0ea",
   "metadata": {},
   "outputs": [
    {
     "name": "stdout",
     "output_type": "stream",
     "text": [
      "A\n",
      "A\n"
     ]
    }
   ],
   "source": [
    "print(StrConcerter.to_str('\\x41'))\n",
    "print(StrConcerter.to_str('A'))"
   ]
  },
  {
   "cell_type": "code",
   "execution_count": 9,
   "id": "0293226c-993d-4e9d-8402-f82084f1589e",
   "metadata": {},
   "outputs": [
    {
     "name": "stdout",
     "output_type": "stream",
     "text": [
      "b'A'\n",
      "b'A'\n"
     ]
    }
   ],
   "source": [
    "print(StrConcerter.to_bytes('\\x41'))\n",
    "print(StrConcerter.to_bytes('A'))"
   ]
  },
  {
   "cell_type": "code",
   "execution_count": null,
   "id": "58faaf5f-8537-4327-b353-bef32cd6f281",
   "metadata": {},
   "outputs": [],
   "source": []
  }
 ],
 "metadata": {
  "kernelspec": {
   "display_name": "Python 3 (ipykernel)",
   "language": "python",
   "name": "python3"
  },
  "language_info": {
   "codemirror_mode": {
    "name": "ipython",
    "version": 3
   },
   "file_extension": ".py",
   "mimetype": "text/x-python",
   "name": "python",
   "nbconvert_exporter": "python",
   "pygments_lexer": "ipython3",
   "version": "3.10.6"
  }
 },
 "nbformat": 4,
 "nbformat_minor": 5
}
