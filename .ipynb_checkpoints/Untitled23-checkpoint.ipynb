{
 "cells": [
  {
   "cell_type": "code",
   "execution_count": 2,
   "id": "ef576016-b5ec-48f6-909f-b4f3cf8525e8",
   "metadata": {},
   "outputs": [],
   "source": [
    "class Character():\n",
    "    max_speed = 100\n",
    "    dead_health = 0\n",
    "    \n",
    "    def __init__(self, race, damage=10, armor=20):\n",
    "        self.race = race\n",
    "        self.damage = damage\n",
    "        self.armor = armor\n",
    "        self.health = Caracter.max_speed\n",
    "        \n",
    "    def hit(self, demage):\n",
    "        self.health -= demage\n",
    "        \n",
    "    def is_dead(self):\n",
    "        return self.health == Caracter.dead_health"
   ]
  },
  {
   "cell_type": "code",
   "execution_count": 3,
   "id": "1037d670-8afe-44d7-8dbb-e509706a7e6a",
   "metadata": {},
   "outputs": [
    {
     "name": "stdout",
     "output_type": "stream",
     "text": [
      "Ork\n",
      "100\n"
     ]
    }
   ],
   "source": [
    "unit = Caracter('Ork')\n",
    "print(unit.race)\n",
    "print(Character.max_speed)"
   ]
  },
  {
   "cell_type": "code",
   "execution_count": 4,
   "id": "f49f33d7-0d0d-47fc-94bd-aa507fca5558",
   "metadata": {},
   "outputs": [],
   "source": [
    "unit.hit(20)"
   ]
  },
  {
   "cell_type": "code",
   "execution_count": 5,
   "id": "d0799c56-2695-4964-8c80-27b5b70191ce",
   "metadata": {},
   "outputs": [
    {
     "name": "stdout",
     "output_type": "stream",
     "text": [
      "80\n"
     ]
    }
   ],
   "source": [
    "print(unit.health)"
   ]
  },
  {
   "cell_type": "code",
   "execution_count": 6,
   "id": "5c68ae28-7e78-4664-8e27-3bead336a80a",
   "metadata": {},
   "outputs": [
    {
     "name": "stdout",
     "output_type": "stream",
     "text": [
      "90\n"
     ]
    }
   ],
   "source": [
    "unit.hit(-10)\n",
    "print(unit.health)"
   ]
  },
  {
   "cell_type": "code",
   "execution_count": null,
   "id": "fbc325d6-dc50-429e-a67d-bb1c766da4a2",
   "metadata": {},
   "outputs": [],
   "source": []
  }
 ],
 "metadata": {
  "kernelspec": {
   "display_name": "Python 3 (ipykernel)",
   "language": "python",
   "name": "python3"
  },
  "language_info": {
   "codemirror_mode": {
    "name": "ipython",
    "version": 3
   },
   "file_extension": ".py",
   "mimetype": "text/x-python",
   "name": "python",
   "nbconvert_exporter": "python",
   "pygments_lexer": "ipython3",
   "version": "3.10.6"
  }
 },
 "nbformat": 4,
 "nbformat_minor": 5
}
