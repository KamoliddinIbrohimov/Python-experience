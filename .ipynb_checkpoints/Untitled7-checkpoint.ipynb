{
 "cells": [
  {
   "cell_type": "code",
   "execution_count": 1,
   "id": "409e7bab-ce9d-43cc-abb5-f8e3659c1799",
   "metadata": {},
   "outputs": [],
   "source": [
    "d1 = {}\n",
    "d1['a'] = 'A'\n",
    "d1['b'] = 'B'\n",
    "d1['c'] = 'C'\n",
    "\n",
    "d2 = {}\n",
    "d2['b'] = 'B'\n",
    "d2['a'] = 'A'\n",
    "d2['c'] = 'C'\n",
    "\n",
    "d3 = {}\n",
    "d3['a'] = 'A'\n",
    "d3['b'] = 'B'\n",
    "d3['c'] = 'C'"
   ]
  },
  {
   "cell_type": "code",
   "execution_count": 2,
   "id": "14cd9b73-57f9-4a6a-964e-4416f9b78df4",
   "metadata": {},
   "outputs": [
    {
     "name": "stdout",
     "output_type": "stream",
     "text": [
      "True\n",
      "True\n"
     ]
    }
   ],
   "source": [
    "print(d1==d2)\n",
    "print(d1==d3)"
   ]
  },
  {
   "cell_type": "code",
   "execution_count": 3,
   "id": "9eb8c1ab-39e7-4f09-a6f6-642a81caed7d",
   "metadata": {},
   "outputs": [],
   "source": [
    "#In a normal dictionary, the order of keys and values does not matter, as long as they are equal"
   ]
  },
  {
   "cell_type": "code",
   "execution_count": 4,
   "id": "3defb7e0-74d0-49e7-86c1-3fc8c23c5cb6",
   "metadata": {},
   "outputs": [
    {
     "name": "stdout",
     "output_type": "stream",
     "text": [
      "a A\n",
      "b B\n",
      "c C\n"
     ]
    }
   ],
   "source": [
    "for k, v in d1.items():\n",
    "    print(k, v)"
   ]
  },
  {
   "cell_type": "code",
   "execution_count": 5,
   "id": "bfafa36b-8653-4afa-a6c8-d0f9629c8576",
   "metadata": {},
   "outputs": [],
   "source": [
    "from collections import OrderedDict"
   ]
  },
  {
   "cell_type": "code",
   "execution_count": 6,
   "id": "aae28487-cd4e-410c-8dfe-451480c4bc88",
   "metadata": {},
   "outputs": [],
   "source": [
    "d1 = OrderedDict()\n",
    "d1['a'] = 'A'\n",
    "d1['b'] = 'B'\n",
    "d1['c'] = 'C'\n",
    "\n",
    "d2 = OrderedDict()\n",
    "d2['b'] = 'B'\n",
    "d2['a'] = 'A'\n",
    "d2['c'] = 'C'\n",
    "\n",
    "d3 = OrderedDict()\n",
    "d3['a'] = 'A'\n",
    "d3['b'] = 'B'\n",
    "d3['c'] = 'C'"
   ]
  },
  {
   "cell_type": "code",
   "execution_count": 7,
   "id": "786f173d-8b99-493d-9142-70a8e053d404",
   "metadata": {},
   "outputs": [
    {
     "name": "stdout",
     "output_type": "stream",
     "text": [
      "False\n",
      "True\n"
     ]
    }
   ],
   "source": [
    "print(d1==d2)\n",
    "print(d1==d3)"
   ]
  },
  {
   "cell_type": "code",
   "execution_count": 8,
   "id": "5f579299-cf81-4c91-abf5-7343a11bc033",
   "metadata": {},
   "outputs": [],
   "source": [
    "#OrderedDict also checks the order of the dictionary"
   ]
  },
  {
   "cell_type": "code",
   "execution_count": 9,
   "id": "bb00b872-023b-4f04-be1d-ef55be6ae8c1",
   "metadata": {},
   "outputs": [
    {
     "name": "stdout",
     "output_type": "stream",
     "text": [
      "a A\n",
      "b B\n",
      "c C\n"
     ]
    }
   ],
   "source": [
    "for k, v in d1.items():\n",
    "    print(k, v)"
   ]
  },
  {
   "cell_type": "code",
   "execution_count": null,
   "id": "be95f926-05ec-47b0-9248-1134f06fc41c",
   "metadata": {},
   "outputs": [],
   "source": []
  }
 ],
 "metadata": {
  "kernelspec": {
   "display_name": "Python 3 (ipykernel)",
   "language": "python",
   "name": "python3"
  },
  "language_info": {
   "codemirror_mode": {
    "name": "ipython",
    "version": 3
   },
   "file_extension": ".py",
   "mimetype": "text/x-python",
   "name": "python",
   "nbconvert_exporter": "python",
   "pygments_lexer": "ipython3",
   "version": "3.10.6"
  }
 },
 "nbformat": 4,
 "nbformat_minor": 5
}
