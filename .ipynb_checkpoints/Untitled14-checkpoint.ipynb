{
 "cells": [
  {
   "cell_type": "code",
   "execution_count": 2,
   "id": "1c437ac6-2464-4592-9abd-a34b30215efd",
   "metadata": {},
   "outputs": [
    {
     "name": "stdout",
     "output_type": "stream",
     "text": [
      "x equals 0\n",
      "x equals 1\n",
      "x equals 2\n"
     ]
    }
   ],
   "source": [
    "x = 0\n",
    "\n",
    "while x < 3:\n",
    "    print(f'x equals {x}')\n",
    "    x += 1 "
   ]
  },
  {
   "cell_type": "code",
   "execution_count": 4,
   "id": "0962d990-06cd-48a3-8dfd-b28ca8d8efc2",
   "metadata": {},
   "outputs": [
    {
     "name": "stdout",
     "output_type": "stream",
     "text": [
      "x equals 0\n",
      "x equals 1\n",
      "x equals 2\n",
      "Candition is not met\n"
     ]
    }
   ],
   "source": [
    "x = 0\n",
    "while x < 3:\n",
    "    print(f'x equals {x}')\n",
    "    x+=1\n",
    "else:\n",
    "    print('Candition is not met')"
   ]
  },
  {
   "cell_type": "code",
   "execution_count": 6,
   "id": "b03e9fc1-3897-4fc2-9327-8066af915db9",
   "metadata": {},
   "outputs": [
    {
     "name": "stdout",
     "output_type": "stream",
     "text": [
      "16\n"
     ]
    }
   ],
   "source": [
    "vals = [1,2,3,4,5,6,7,8,9]\n",
    "\n",
    "sum = 0\n",
    "for v in vals:\n",
    "    if v % 2 ==0:\n",
    "        continue\n",
    "    else:\n",
    "        sum += v\n",
    "    if sum > 10:\n",
    "        break\n",
    "print(sum)"
   ]
  },
  {
   "cell_type": "code",
   "execution_count": null,
   "id": "b57f4c5d-4dbd-4601-96eb-c64e9c6654c6",
   "metadata": {},
   "outputs": [],
   "source": []
  }
 ],
 "metadata": {
  "kernelspec": {
   "display_name": "Python 3 (ipykernel)",
   "language": "python",
   "name": "python3"
  },
  "language_info": {
   "codemirror_mode": {
    "name": "ipython",
    "version": 3
   },
   "file_extension": ".py",
   "mimetype": "text/x-python",
   "name": "python",
   "nbconvert_exporter": "python",
   "pygments_lexer": "ipython3",
   "version": "3.10.6"
  }
 },
 "nbformat": 4,
 "nbformat_minor": 5
}
