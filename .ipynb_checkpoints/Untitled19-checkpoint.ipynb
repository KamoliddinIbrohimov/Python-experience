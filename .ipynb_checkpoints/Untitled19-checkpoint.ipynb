{
 "cells": [
  {
   "cell_type": "code",
   "execution_count": 5,
   "id": "fbb28944-b047-4e5e-9865-84b57f066150",
   "metadata": {},
   "outputs": [],
   "source": [
    "greating = \"Hello from the global scope\"\n",
    "\n",
    "def greet():\n",
    "    greating = \"Hello from enclasing scope\"\n",
    "    \n",
    "    def nested():\n",
    "        greating = \"Hello from local scope\"\n",
    "        print(greating)\n",
    "    nested()"
   ]
  },
  {
   "cell_type": "code",
   "execution_count": 6,
   "id": "b2c23f3b-346e-4c08-bee7-6432659d6c02",
   "metadata": {},
   "outputs": [
    {
     "name": "stdout",
     "output_type": "stream",
     "text": [
      "Hello from local scope\n",
      "Hello from the global scope\n"
     ]
    }
   ],
   "source": [
    "greet()\n",
    "print(greating)"
   ]
  },
  {
   "cell_type": "code",
   "execution_count": 9,
   "id": "4242cd26-4c9c-4b22-8d91-e4eae1ffef92",
   "metadata": {},
   "outputs": [],
   "source": [
    "greating = \"Hello from the global scope\"\n",
    "\n",
    "def greet():\n",
    "    global greating\n",
    "    print(f\"Greet in fanc:{greating}\")\n",
    "          \n",
    "    greating = \"Hello from enclasing scope\"\n",
    "    print(f\"Greet in fanc:{greating}\")\n",
    "\n",
    "    def nested():\n",
    "        greating = \"Hello from local scope\"\n",
    "        print(greating)\n",
    "    nested()"
   ]
  },
  {
   "cell_type": "code",
   "execution_count": 11,
   "id": "ddc30953-ccf9-4b9e-bde9-3ecf9d7ffb38",
   "metadata": {},
   "outputs": [
    {
     "name": "stdout",
     "output_type": "stream",
     "text": [
      "Greet in fanc:Hello from the global scope\n",
      "Greet in fanc:Hello from enclasing scope\n",
      "Hello from local scope\n",
      "Hello from enclasing scope\n"
     ]
    }
   ],
   "source": [
    "greet()\n",
    "print(greating)"
   ]
  },
  {
   "cell_type": "code",
   "execution_count": null,
   "id": "94080e70-81d9-480e-919a-e3105226356b",
   "metadata": {},
   "outputs": [],
   "source": []
  }
 ],
 "metadata": {
  "kernelspec": {
   "display_name": "Python 3 (ipykernel)",
   "language": "python",
   "name": "python3"
  },
  "language_info": {
   "codemirror_mode": {
    "name": "ipython",
    "version": 3
   },
   "file_extension": ".py",
   "mimetype": "text/x-python",
   "name": "python",
   "nbconvert_exporter": "python",
   "pygments_lexer": "ipython3",
   "version": "3.10.6"
  }
 },
 "nbformat": 4,
 "nbformat_minor": 5
}
