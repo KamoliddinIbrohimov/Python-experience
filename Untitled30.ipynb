{
 "cells": [
  {
   "cell_type": "code",
   "execution_count": 1,
   "id": "689e6ad3-ed58-46e8-ae61-84f90a23a6e2",
   "metadata": {},
   "outputs": [],
   "source": [
    "class Point():\n",
    "    def __init__(self, x, y):\n",
    "        self.x = x\n",
    "        self.y = y\n",
    "        \n",
    "    def __str__(self):\n",
    "        return f\"Point x={self.x}, y={self.y}\""
   ]
  },
  {
   "cell_type": "code",
   "execution_count": 2,
   "id": "d0c1c1da-43ee-4308-a4c8-24d01d9e37e3",
   "metadata": {},
   "outputs": [
    {
     "name": "stdout",
     "output_type": "stream",
     "text": [
      "Point x=2, y=3\n"
     ]
    }
   ],
   "source": [
    "p = Point(2, 3)\n",
    "print(p)"
   ]
  },
  {
   "cell_type": "code",
   "execution_count": 10,
   "id": "e50324ee-384d-4f62-a6c8-b656045323e1",
   "metadata": {},
   "outputs": [],
   "source": [
    "class Road():\n",
    "    def __init__(self, length):\n",
    "        self.length = length\n",
    "        \n",
    "    def __len__(self):\n",
    "        return self.length\n",
    "        \n",
    "    def __str__(self):\n",
    "        return f\"A road of length:{self.length}\"\n",
    "       \n",
    "    def __del__(self):\n",
    "        print(\"The road has been destroyed\")"
   ]
  },
  {
   "cell_type": "code",
   "execution_count": 11,
   "id": "78a7bdcd-87db-4795-9bd9-779846a9a738",
   "metadata": {},
   "outputs": [],
   "source": [
    "r = Road(100)"
   ]
  },
  {
   "cell_type": "code",
   "execution_count": 12,
   "id": "746586de-c689-4f5d-b1ba-d8844cc0e3df",
   "metadata": {},
   "outputs": [
    {
     "data": {
      "text/plain": [
       "100"
      ]
     },
     "execution_count": 12,
     "metadata": {},
     "output_type": "execute_result"
    }
   ],
   "source": [
    "len(r)"
   ]
  },
  {
   "cell_type": "code",
   "execution_count": null,
   "id": "a3dee6bc-f39e-4efe-8343-1595b735f783",
   "metadata": {},
   "outputs": [],
   "source": []
  }
 ],
 "metadata": {
  "kernelspec": {
   "display_name": "Python 3 (ipykernel)",
   "language": "python",
   "name": "python3"
  },
  "language_info": {
   "codemirror_mode": {
    "name": "ipython",
    "version": 3
   },
   "file_extension": ".py",
   "mimetype": "text/x-python",
   "name": "python",
   "nbconvert_exporter": "python",
   "pygments_lexer": "ipython3",
   "version": "3.10.6"
  }
 },
 "nbformat": 4,
 "nbformat_minor": 5
}
