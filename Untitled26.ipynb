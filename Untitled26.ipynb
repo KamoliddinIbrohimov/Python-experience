{
 "cells": [
  {
   "cell_type": "code",
   "execution_count": 9,
   "id": "43c133c4-9f29-47b0-b3f2-864ebf04d8e6",
   "metadata": {},
   "outputs": [],
   "source": [
    "class Shape():\n",
    "    \n",
    "    def __init__(self):\n",
    "        print('Shape created')\n",
    "        \n",
    "    def drow(self):\n",
    "        print('Drowing a shope')\n",
    "        \n",
    "    def area(self):\n",
    "        print('Calc area')\n",
    "        \n",
    "    def perimeter(self):\n",
    "        print('Calc perimetr')"
   ]
  },
  {
   "cell_type": "code",
   "execution_count": 10,
   "id": "68f1dce8-65a0-418e-b10c-0986b32a3ed5",
   "metadata": {},
   "outputs": [
    {
     "name": "stdout",
     "output_type": "stream",
     "text": [
      "Shape created\n"
     ]
    }
   ],
   "source": [
    "shope = Shape()"
   ]
  },
  {
   "cell_type": "code",
   "execution_count": 13,
   "id": "b3ca40df-032a-4ecb-902a-c1c2d194db83",
   "metadata": {},
   "outputs": [],
   "source": [
    "class Rectengle(Shape):\n",
    "    \n",
    "    def __init__(self, width, height):\n",
    "        Shape.__init__(self)\n",
    "        \n",
    "        self.width = width\n",
    "        self.height = height\n",
    "        \n",
    "        print('Rectengle created')\n",
    "        \n",
    "        Shape.area(self)\n",
    "        \n",
    "    def area(self):\n",
    "        return self.width * self.height\n",
    "    \n",
    "    def perimeter(self):\n",
    "        return 2*(self.width + self.height)\n",
    "    \n",
    "    def drow(self):\n",
    "        print(f\"Drowing rectangle with width={self.width} and height={self.height}\")"
   ]
  },
  {
   "cell_type": "code",
   "execution_count": 14,
   "id": "54ca1cce-53a0-4ed0-90f3-e29f7e69ff90",
   "metadata": {},
   "outputs": [
    {
     "name": "stdout",
     "output_type": "stream",
     "text": [
      "Shape created\n",
      "Rectengle created\n",
      "Calc area\n"
     ]
    }
   ],
   "source": [
    "rect = Rectengle(10, 15)"
   ]
  },
  {
   "cell_type": "code",
   "execution_count": 15,
   "id": "4e1497ab-0beb-4627-adb0-42e9bef544a2",
   "metadata": {},
   "outputs": [
    {
     "data": {
      "text/plain": [
       "150"
      ]
     },
     "execution_count": 15,
     "metadata": {},
     "output_type": "execute_result"
    }
   ],
   "source": [
    "rect.area()"
   ]
  },
  {
   "cell_type": "code",
   "execution_count": 16,
   "id": "c3f39bee-aa7c-4439-b06f-0343bbfb85ad",
   "metadata": {},
   "outputs": [
    {
     "name": "stdout",
     "output_type": "stream",
     "text": [
      "50\n",
      "Drowing rectangle with width=10 and height=15\n",
      "None\n"
     ]
    }
   ],
   "source": [
    "print(rect.perimeter())\n",
    "print(rect.drow())"
   ]
  },
  {
   "cell_type": "code",
   "execution_count": 17,
   "id": "9c1a0e10-04f0-48f8-8d8f-f9156778de38",
   "metadata": {},
   "outputs": [],
   "source": [
    "import math\n",
    "class Triangle(Shape):\n",
    "    \n",
    "    def __init__(self, a, b, c):\n",
    "        Shape.__init__(self)\n",
    "        \n",
    "        self.a = a\n",
    "        self.b = b\n",
    "        self.c = c\n",
    "        \n",
    "        print('Triangle created')\n",
    "        \n",
    "    def drow(self):\n",
    "        print(f'Drowing triangle with sides={self.a}, {self.b}, {self.c}')\n",
    "        \n",
    "    def area(self):\n",
    "        s = (self.a+self.b+self.c)/2\n",
    "        return math.sqrt(s*(s-self.a)*(s-self.b)*(s-self.c))\n",
    "    \n",
    "    def perimeter(self):\n",
    "        return self.a+self.b+self.c"
   ]
  },
  {
   "cell_type": "code",
   "execution_count": 19,
   "id": "56761202-25be-4f5c-8f5f-4b9ef35e9889",
   "metadata": {},
   "outputs": [
    {
     "name": "stdout",
     "output_type": "stream",
     "text": [
      "Shape created\n",
      "Triangle created\n"
     ]
    }
   ],
   "source": [
    "triangle = Triangle(10, 10, 10)"
   ]
  },
  {
   "cell_type": "code",
   "execution_count": 20,
   "id": "e8ef3866-955c-43e7-ae7f-6b5fd7441c2d",
   "metadata": {},
   "outputs": [
    {
     "name": "stdout",
     "output_type": "stream",
     "text": [
      "Drowing triangle with sides=10, 10, 10\n",
      "43.30127018922193\n",
      "30\n"
     ]
    }
   ],
   "source": [
    "triangle.drow()\n",
    "print(triangle.area())\n",
    "print(triangle.perimeter())"
   ]
  },
  {
   "cell_type": "code",
   "execution_count": 21,
   "id": "e7b12065-9d63-45ae-8437-96ed15d8c1ef",
   "metadata": {},
   "outputs": [
    {
     "name": "stdout",
     "output_type": "stream",
     "text": [
      "Drowing a shope\n",
      "Drowing a shope\n"
     ]
    }
   ],
   "source": [
    "for shape in [rect, triangle]:\n",
    "    shope.drow()"
   ]
  },
  {
   "cell_type": "code",
   "execution_count": null,
   "id": "7b048cfa-bbd3-42df-aa8b-f83bde2a87c0",
   "metadata": {},
   "outputs": [],
   "source": []
  }
 ],
 "metadata": {
  "kernelspec": {
   "display_name": "Python 3 (ipykernel)",
   "language": "python",
   "name": "python3"
  },
  "language_info": {
   "codemirror_mode": {
    "name": "ipython",
    "version": 3
   },
   "file_extension": ".py",
   "mimetype": "text/x-python",
   "name": "python",
   "nbconvert_exporter": "python",
   "pygments_lexer": "ipython3",
   "version": "3.10.6"
  }
 },
 "nbformat": 4,
 "nbformat_minor": 5
}
