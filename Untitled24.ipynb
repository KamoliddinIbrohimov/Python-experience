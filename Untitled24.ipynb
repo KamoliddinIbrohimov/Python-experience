{
 "cells": [
  {
   "cell_type": "code",
   "execution_count": 51,
   "id": "d6ad8ca0-f2f4-4985-9d6f-2328ce2d5749",
   "metadata": {},
   "outputs": [],
   "source": [
    "class Character():\n",
    "    MAX_SPEED = 100\n",
    "    \n",
    "    def __init__(self, race, damage = 10):\n",
    "        self.damage = damage\n",
    "        \n",
    "        self.__race = race\n",
    "        self._health =100\n",
    "        \n",
    "        self._current_speed = 20\n",
    "        \n",
    "    def hit(self, demage):\n",
    "        self._health -= demage\n",
    "        \n",
    "    @property\n",
    "    def health(self):\n",
    "        return self._health\n",
    "    \n",
    "    @property\n",
    "    def race(self):\n",
    "        return self.__race\n",
    "    \n",
    "    @property\n",
    "    def current_spead(self):\n",
    "        return self._current_speed\n",
    "    \n",
    "    @current_spead.setter\n",
    "    def current_spead(self, current_spead):\n",
    "        if current_spead < 0:\n",
    "            self._current_speed = 0\n",
    "        elif current_spead > 100:\n",
    "            self._current_speed = 100\n",
    "        else:\n",
    "            self._current_spead = current_spead\n",
    "    "
   ]
  },
  {
   "cell_type": "code",
   "execution_count": 52,
   "id": "2a249b91-b9b8-422a-a768-0eb3441a4888",
   "metadata": {},
   "outputs": [
    {
     "data": {
      "text/plain": [
       "100"
      ]
     },
     "execution_count": 52,
     "metadata": {},
     "output_type": "execute_result"
    }
   ],
   "source": [
    "Character.MAX_SPEED"
   ]
  },
  {
   "cell_type": "code",
   "execution_count": 53,
   "id": "1fc96f52-f22a-44f4-86cc-22b647425383",
   "metadata": {},
   "outputs": [
    {
     "data": {
      "text/plain": [
       "10"
      ]
     },
     "execution_count": 53,
     "metadata": {},
     "output_type": "execute_result"
    }
   ],
   "source": [
    "Character.MAX_SPEED = 10\n",
    "Character.MAX_SPEED"
   ]
  },
  {
   "cell_type": "code",
   "execution_count": 54,
   "id": "77ff97aa-4fc6-43c7-b8e9-173618e9d0f4",
   "metadata": {},
   "outputs": [],
   "source": [
    "c = Character('Elf')"
   ]
  },
  {
   "cell_type": "code",
   "execution_count": 55,
   "id": "fd06eaa5-fa6a-4fd8-9e36-98793ecc9f16",
   "metadata": {},
   "outputs": [
    {
     "ename": "NameError",
     "evalue": "name '__race' is not defined",
     "output_type": "error",
     "traceback": [
      "\u001b[0;31m---------------------------------------------------------------------------\u001b[0m",
      "\u001b[0;31mNameError\u001b[0m                                 Traceback (most recent call last)",
      "Cell \u001b[0;32mIn [55], line 1\u001b[0m\n\u001b[0;32m----> 1\u001b[0m c \u001b[38;5;241m=\u001b[39m \u001b[43m__race\u001b[49m\n",
      "\u001b[0;31mNameError\u001b[0m: name '__race' is not defined"
     ]
    }
   ],
   "source": [
    "c = __race"
   ]
  },
  {
   "cell_type": "code",
   "execution_count": 56,
   "id": "06ce326d-9ee9-445c-a082-7507b9f1b433",
   "metadata": {},
   "outputs": [
    {
     "data": {
      "text/plain": [
       "'Ork'"
      ]
     },
     "execution_count": 56,
     "metadata": {},
     "output_type": "execute_result"
    }
   ],
   "source": [
    "c._Character__race = 'Ork'\n",
    "c._Character__race"
   ]
  },
  {
   "cell_type": "code",
   "execution_count": 57,
   "id": "8bddf20b-5bdc-4ac9-97f3-4834d4867cce",
   "metadata": {},
   "outputs": [
    {
     "data": {
      "text/plain": [
       "0"
      ]
     },
     "execution_count": 57,
     "metadata": {},
     "output_type": "execute_result"
    }
   ],
   "source": [
    "c._health = 0\n",
    "c._health"
   ]
  },
  {
   "cell_type": "code",
   "execution_count": 58,
   "id": "209eb5fd-6dfe-4963-9be6-1945aedb52a0",
   "metadata": {},
   "outputs": [
    {
     "name": "stdout",
     "output_type": "stream",
     "text": [
      "0\n",
      "Ork\n"
     ]
    }
   ],
   "source": [
    "print(c.health)\n",
    "print(c.race)"
   ]
  },
  {
   "cell_type": "code",
   "execution_count": 59,
   "id": "9d7948b2-53aa-4009-bcdb-685e1aad8ecc",
   "metadata": {},
   "outputs": [
    {
     "data": {
      "text/plain": [
       "20"
      ]
     },
     "execution_count": 59,
     "metadata": {},
     "output_type": "execute_result"
    }
   ],
   "source": [
    "c.current_spead"
   ]
  },
  {
   "cell_type": "code",
   "execution_count": 61,
   "id": "efa53756-12c2-4d05-80b1-2e59579eff2e",
   "metadata": {},
   "outputs": [
    {
     "data": {
      "text/plain": [
       "100"
      ]
     },
     "execution_count": 61,
     "metadata": {},
     "output_type": "execute_result"
    }
   ],
   "source": [
    "c.current_spead = 1000\n",
    "c.current_spead"
   ]
  },
  {
   "cell_type": "code",
   "execution_count": 62,
   "id": "ea4ccdce-8131-4f85-b9c6-7e5634c61db5",
   "metadata": {},
   "outputs": [
    {
     "data": {
      "text/plain": [
       "0"
      ]
     },
     "execution_count": 62,
     "metadata": {},
     "output_type": "execute_result"
    }
   ],
   "source": [
    "c.current_spead = -10\n",
    "c.current_spead"
   ]
  },
  {
   "cell_type": "code",
   "execution_count": null,
   "id": "c9f9cbf0-6780-41db-85b5-8fe68c332a8a",
   "metadata": {},
   "outputs": [],
   "source": []
  }
 ],
 "metadata": {
  "kernelspec": {
   "display_name": "Python 3 (ipykernel)",
   "language": "python",
   "name": "python3"
  },
  "language_info": {
   "codemirror_mode": {
    "name": "ipython",
    "version": 3
   },
   "file_extension": ".py",
   "mimetype": "text/x-python",
   "name": "python",
   "nbconvert_exporter": "python",
   "pygments_lexer": "ipython3",
   "version": "3.10.6"
  }
 },
 "nbformat": 4,
 "nbformat_minor": 5
}
