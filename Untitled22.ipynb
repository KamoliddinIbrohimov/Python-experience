{
 "cells": [
  {
   "cell_type": "code",
   "execution_count": 1,
   "id": "1c250cf0-1c0a-4e2b-8ffb-e7fb8344da16",
   "metadata": {},
   "outputs": [
    {
     "data": {
      "text/plain": [
       "list"
      ]
     },
     "execution_count": 1,
     "metadata": {},
     "output_type": "execute_result"
    }
   ],
   "source": [
    "numbers = [1,2,3,4]\n",
    "type(numbers)"
   ]
  },
  {
   "cell_type": "code",
   "execution_count": 2,
   "id": "670c5d75-4006-45f7-94e1-2852a1361229",
   "metadata": {},
   "outputs": [],
   "source": [
    "class Character():\n",
    "    \n",
    "    def __init__(self, race, demage=10, armor=20):\n",
    "        self.race = race\n",
    "        self.demage = demage\n",
    "        self.armor = armor"
   ]
  },
  {
   "cell_type": "code",
   "execution_count": 3,
   "id": "d56e2486-bee8-47ec-bf0b-056d2e9a2710",
   "metadata": {},
   "outputs": [
    {
     "data": {
      "text/plain": [
       "__main__.Character"
      ]
     },
     "execution_count": 4,
     "metadata": {},
     "output_type": "execute_result"
    }
   ],
   "source": [
    "unit = Character(\"Elif\", demage=20, armor=40)\n",
    "type(unit)"
   ]
  },
  {
   "cell_type": "code",
   "execution_count": 5,
   "id": "508aeafb-cacf-45c9-94a0-2cfeeb7b53c8",
   "metadata": {},
   "outputs": [
    {
     "data": {
      "text/plain": [
       "'Elif'"
      ]
     },
     "execution_count": 5,
     "metadata": {},
     "output_type": "execute_result"
    }
   ],
   "source": [
    "unit.race"
   ]
  },
  {
   "cell_type": "code",
   "execution_count": 6,
   "id": "4e756088-f32e-4354-9931-05e17d058082",
   "metadata": {},
   "outputs": [
    {
     "name": "stdout",
     "output_type": "stream",
     "text": [
      "['Elif', 20, 40]\n"
     ]
    }
   ],
   "source": [
    "print([unit.race, unit.demage, unit.armor])"
   ]
  },
  {
   "cell_type": "code",
   "execution_count": null,
   "id": "3114e74a-e013-44b3-8984-9535c1d471d0",
   "metadata": {},
   "outputs": [],
   "source": []
  }
 ],
 "metadata": {
  "kernelspec": {
   "display_name": "Python 3 (ipykernel)",
   "language": "python",
   "name": "python3"
  },
  "language_info": {
   "codemirror_mode": {
    "name": "ipython",
    "version": 3
   },
   "file_extension": ".py",
   "mimetype": "text/x-python",
   "name": "python",
   "nbconvert_exporter": "python",
   "pygments_lexer": "ipython3",
   "version": "3.10.6"
  }
 },
 "nbformat": 4,
 "nbformat_minor": 5
}
