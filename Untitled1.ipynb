{
 "cells": [
  {
   "cell_type": "code",
   "execution_count": 1,
   "id": "4efe0cfe-983d-4bf9-a3da-7eb3c304dd17",
   "metadata": {},
   "outputs": [],
   "source": [
    "x = \"hello, my name is Elies\""
   ]
  },
  {
   "cell_type": "code",
   "execution_count": 2,
   "id": "9749ae2f-d506-4eae-b11a-9169c0dbf950",
   "metadata": {},
   "outputs": [
    {
     "data": {
      "text/plain": [
       "23"
      ]
     },
     "execution_count": 2,
     "metadata": {},
     "output_type": "execute_result"
    }
   ],
   "source": [
    "len(x)\n",
    "#len calculates the length of a string"
   ]
  },
  {
   "cell_type": "code",
   "execution_count": 4,
   "id": "690d655d-75db-4947-b8ca-cd6f4e15fc63",
   "metadata": {},
   "outputs": [
    {
     "data": {
      "text/plain": [
       "3"
      ]
     },
     "execution_count": 4,
     "metadata": {},
     "output_type": "execute_result"
    }
   ],
   "source": [
    "x.count('l')\n",
    "#count counts how many of exactly one character there are"
   ]
  },
  {
   "cell_type": "code",
   "execution_count": 5,
   "id": "306093de-dc6f-4604-8771-fe09122c200c",
   "metadata": {},
   "outputs": [
    {
     "data": {
      "text/plain": [
       "'s'"
      ]
     },
     "execution_count": 5,
     "metadata": {},
     "output_type": "execute_result"
    }
   ],
   "source": [
    "x[len(x)-1]"
   ]
  },
  {
   "cell_type": "code",
   "execution_count": 6,
   "id": "e57ab12a-0975-4e01-ba52-2f0f5762f0bb",
   "metadata": {},
   "outputs": [
    {
     "data": {
      "text/plain": [
       "'Hello, my name is elies'"
      ]
     },
     "execution_count": 6,
     "metadata": {},
     "output_type": "execute_result"
    }
   ],
   "source": [
    "x.capitalize()\n",
    "#fina only changes the first letter to upper case, \n",
    "#all other letters are changed to lower case"
   ]
  },
  {
   "cell_type": "code",
   "execution_count": 7,
   "id": "52bdf05a-8772-4933-8126-b903760d775e",
   "metadata": {},
   "outputs": [
    {
     "name": "stdout",
     "output_type": "stream",
     "text": [
      "HELLO, MY NAME IS ELIES\n"
     ]
    }
   ],
   "source": [
    "upper_cased = x.upper()\n",
    "print(upper_cased)\n",
    "#upper makes all letters appear uppercase"
   ]
  },
  {
   "cell_type": "code",
   "execution_count": 8,
   "id": "c55de587-c832-4382-ac72-7f83494e6cba",
   "metadata": {},
   "outputs": [
    {
     "name": "stdout",
     "output_type": "stream",
     "text": [
      "hello, my name is elies\n"
     ]
    }
   ],
   "source": [
    "lower_cased = x.lower()\n",
    "print(lower_cased)\n",
    "#lower makes all letters lowercase"
   ]
  },
  {
   "cell_type": "code",
   "execution_count": 9,
   "id": "fab1a641-0921-448b-af59-9076038ef447",
   "metadata": {},
   "outputs": [
    {
     "data": {
      "text/plain": [
       "'hello, my name is Elies'"
      ]
     },
     "execution_count": 9,
     "metadata": {},
     "output_type": "execute_result"
    }
   ],
   "source": [
    "x"
   ]
  },
  {
   "cell_type": "code",
   "execution_count": 10,
   "id": "6d9f2a2d-dff1-4ae7-9e20-7b4df7a7b48e",
   "metadata": {},
   "outputs": [
    {
     "name": "stdout",
     "output_type": "stream",
     "text": [
      "True\n",
      "True\n",
      "False\n",
      "False\n"
     ]
    }
   ],
   "source": [
    "print(upper_cased.isupper())\n",
    "print(lower_cased.islower())\n",
    "print(x.isupper())\n",
    "print(x.islower())"
   ]
  },
  {
   "cell_type": "code",
   "execution_count": 11,
   "id": "c29b6c43-c792-461c-8efd-9da7a89e0178",
   "metadata": {},
   "outputs": [
    {
     "name": "stdout",
     "output_type": "stream",
     "text": [
      "2\n",
      "19\n",
      "-1\n",
      "7\n",
      "12\n"
     ]
    }
   ],
   "source": [
    "print(x.find('l'))\n",
    "print(x.find('l', 5))\n",
    "print(x.find('l', 5, 10,))\n",
    "print(x.find('m', 7, 15))\n",
    "print(x.find('m', 8, 15))\n",
    "#find is used to determine the location of a character,\n",
    "#if there are multiple characters, it only shows the position of the first character"
   ]
  },
  {
   "cell_type": "code",
   "execution_count": 12,
   "id": "11d943ff-9783-4cbb-901c-b3921225df44",
   "metadata": {},
   "outputs": [
    {
     "name": "stdout",
     "output_type": "stream",
     "text": [
      "7\n"
     ]
    }
   ],
   "source": [
    "print(x.find('my'))"
   ]
  },
  {
   "cell_type": "code",
   "execution_count": 13,
   "id": "a0723bc5-0203-4f0c-b5d1-1f4f16d4bc28",
   "metadata": {},
   "outputs": [
    {
     "name": "stdout",
     "output_type": "stream",
     "text": [
      "True\n",
      "False\n"
     ]
    }
   ],
   "source": [
    "print(\"123abc\".isalnum())\n",
    "print(\"123abc!\".isalnum())\n",
    "#a function that detects only numbers and letters"
   ]
  },
  {
   "cell_type": "code",
   "execution_count": 14,
   "id": "fa446609-5922-4de7-953a-0f0fe69a988a",
   "metadata": {},
   "outputs": [
    {
     "name": "stdout",
     "output_type": "stream",
     "text": [
      "False\n",
      "True\n"
     ]
    }
   ],
   "source": [
    "print(\"123abc\".isalpha())\n",
    "print(\"abc\".isalpha())\n",
    "#a function that detects characters consisting only of letters"
   ]
  },
  {
   "cell_type": "code",
   "execution_count": 4,
   "id": "edc823bb-d074-4027-8fd0-6bd33576df01",
   "metadata": {},
   "outputs": [
    {
     "name": "stdout",
     "output_type": "stream",
     "text": [
      "True\n",
      "False\n"
     ]
    }
   ],
   "source": [
    "print(\"  \".isspace())\n",
    "print(\"\".isspace())\n",
    "#a function that detects the presence of an empty throw"
   ]
  },
  {
   "cell_type": "code",
   "execution_count": 7,
   "id": "bf393b25-8a4f-4586-bc17-d6699c2ba0db",
   "metadata": {},
   "outputs": [
    {
     "name": "stdout",
     "output_type": "stream",
     "text": [
      "False\n"
     ]
    }
   ],
   "source": [
    "emty_string = \"   \"\n",
    "print(emty_string==\"\")"
   ]
  },
  {
   "cell_type": "code",
   "execution_count": 12,
   "id": "88593147-7016-480a-b877-24ef23bea180",
   "metadata": {},
   "outputs": [
    {
     "name": "stdout",
     "output_type": "stream",
     "text": [
      "emty\n"
     ]
    }
   ],
   "source": [
    "empty_string = \" \"\n",
    "if not empty_string:\n",
    "    print(\"not empty\")\n",
    "else:\n",
    "    print(\"emty\")"
   ]
  },
  {
   "cell_type": "code",
   "execution_count": 13,
   "id": "340fba66-af46-4cf9-bbc7-2c3f8cf22b65",
   "metadata": {},
   "outputs": [
    {
     "name": "stdout",
     "output_type": "stream",
     "text": [
      "True\n",
      "False\n"
     ]
    }
   ],
   "source": [
    "h = \"hello\"\n",
    "print(h.startswith(\"he\"))\n",
    "print(h.startswith(\"lo\"))\n",
    "#function that determines whether a string starts\n",
    "#with this character and ends with this character"
   ]
  },
  {
   "cell_type": "code",
   "execution_count": 14,
   "id": "29012f4e-198e-4d78-a6d6-3d0f19ed3092",
   "metadata": {},
   "outputs": [
    {
     "name": "stdout",
     "output_type": "stream",
     "text": [
      "<class 'list'>\n",
      "['he', '', 'o']\n",
      "['h', 'llo']\n"
     ]
    }
   ],
   "source": [
    "split = h.split(\"l\")\n",
    "print(type(split))\n",
    "print(split)\n",
    "split = h.split(\"e\")\n",
    "print(split)\n",
    "#a function that converts exactly one character or string into a \n",
    "#class by extracting all its characters"
   ]
  },
  {
   "cell_type": "code",
   "execution_count": 16,
   "id": "9cf92f10-54c0-465c-80b7-09a03eb49623",
   "metadata": {},
   "outputs": [
    {
     "name": "stdout",
     "output_type": "stream",
     "text": [
      "['12', '54', '78', '64']\n"
     ]
    }
   ],
   "source": [
    "data = \"12;54;78;64\"\n",
    "separated_data = data.split(\";\")\n",
    "print(separated_data)"
   ]
  },
  {
   "cell_type": "code",
   "execution_count": 17,
   "id": "f6da20a6-0e34-4309-a5f4-83cb3b2956e8",
   "metadata": {},
   "outputs": [
    {
     "name": "stdout",
     "output_type": "stream",
     "text": [
      "('Python ', 'is ', 'fun')\n",
      "('Python is fun', '', '')\n",
      "('Python ', 'is', \" fun, isn't it\")\n"
     ]
    }
   ],
   "source": [
    "python = \"Python is fun\"\n",
    "\n",
    "print(python.partition('is '))\n",
    "print(python.partition('not '))\n",
    "\n",
    "python = \"Python is fun, isn't it\"\n",
    "print(python.partition('is'))\n",
    "\n",
    "#finds the exact set of characters in the text,\n",
    "#separates it and makes it into a split view"
   ]
  },
  {
   "cell_type": "code",
   "execution_count": null,
   "id": "cbee2150-df1d-40ce-8dfe-606864acb902",
   "metadata": {},
   "outputs": [],
   "source": []
  }
 ],
 "metadata": {
  "kernelspec": {
   "display_name": "Python 3 (ipykernel)",
   "language": "python",
   "name": "python3"
  },
  "language_info": {
   "codemirror_mode": {
    "name": "ipython",
    "version": 3
   },
   "file_extension": ".py",
   "mimetype": "text/x-python",
   "name": "python",
   "nbconvert_exporter": "python",
   "pygments_lexer": "ipython3",
   "version": "3.10.6"
  }
 },
 "nbformat": 4,
 "nbformat_minor": 5
}
