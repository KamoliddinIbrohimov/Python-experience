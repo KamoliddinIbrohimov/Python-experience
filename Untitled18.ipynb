{
 "cells": [
  {
   "cell_type": "code",
   "execution_count": 1,
   "id": "6cf5e1cb-2c4f-4fa8-a2b2-90eed784f708",
   "metadata": {},
   "outputs": [],
   "source": [
    "def square(*args):\n",
    "    return [x*x for x in args]"
   ]
  },
  {
   "cell_type": "code",
   "execution_count": 2,
   "id": "8c5d438c-8da2-42e1-a780-e4890ddd5f8c",
   "metadata": {},
   "outputs": [
    {
     "data": {
      "text/plain": [
       "[1, 4, 9, 16]"
      ]
     },
     "execution_count": 2,
     "metadata": {},
     "output_type": "execute_result"
    }
   ],
   "source": [
    "result = square(1,2,3,4)\n",
    "result"
   ]
  },
  {
   "cell_type": "code",
   "execution_count": 3,
   "id": "2b54b95c-f830-4e20-916c-f02444a53942",
   "metadata": {},
   "outputs": [],
   "source": [
    "def triple(*args):\n",
    "    return [x*3 for x in args]"
   ]
  },
  {
   "cell_type": "code",
   "execution_count": 4,
   "id": "99b15d0a-71bb-469c-bad4-af71f6576c61",
   "metadata": {},
   "outputs": [
    {
     "data": {
      "text/plain": [
       "[3, 6, 9, 12, 15]"
      ]
     },
     "execution_count": 4,
     "metadata": {},
     "output_type": "execute_result"
    }
   ],
   "source": [
    "result = triple(1,2,3,4,5)\n",
    "result"
   ]
  },
  {
   "cell_type": "code",
   "execution_count": 7,
   "id": "532ab25e-dcd6-4f15-a276-7ce502f75be7",
   "metadata": {},
   "outputs": [],
   "source": [
    "def squart(number):\n",
    "    return number*number\n",
    "\n",
    "number = [1,2,3,4,5]\n",
    "\n",
    "mapped_seq = map(square, number)"
   ]
  },
  {
   "cell_type": "code",
   "execution_count": 8,
   "id": "dc676e41-7999-4542-b40d-85c618ed9598",
   "metadata": {},
   "outputs": [
    {
     "name": "stdout",
     "output_type": "stream",
     "text": [
      "[1]\n",
      "[4]\n",
      "[9]\n",
      "[16]\n",
      "[25]\n"
     ]
    }
   ],
   "source": [
    "for x in mapped_seq:\n",
    "    print(x)"
   ]
  },
  {
   "cell_type": "code",
   "execution_count": 9,
   "id": "8ec78c36-d223-48c7-8b78-610380ee2f98",
   "metadata": {},
   "outputs": [
    {
     "name": "stdout",
     "output_type": "stream",
     "text": [
      "<class 'map'>\n"
     ]
    }
   ],
   "source": [
    "print(type(mapped_seq))"
   ]
  },
  {
   "cell_type": "code",
   "execution_count": 12,
   "id": "ad800160-56e8-49de-a8e2-b82f4e35571a",
   "metadata": {},
   "outputs": [
    {
     "data": {
      "text/plain": [
       "[[1], [4], [9], [16], [25]]"
      ]
     },
     "execution_count": 12,
     "metadata": {},
     "output_type": "execute_result"
    }
   ],
   "source": [
    "list(map(square, number))"
   ]
  },
  {
   "cell_type": "code",
   "execution_count": 13,
   "id": "6ebfbeff-e0c9-4c01-9b15-514843f9024b",
   "metadata": {},
   "outputs": [],
   "source": [
    "def is_adult(age):\n",
    "    return age>=18\n",
    "\n",
    "ages = [14,18,21,16,30]"
   ]
  },
  {
   "cell_type": "code",
   "execution_count": 14,
   "id": "72923ce5-39fc-4159-99b9-1ef761b7a655",
   "metadata": {},
   "outputs": [
    {
     "data": {
      "text/plain": [
       "<filter at 0x7f7e6c102020>"
      ]
     },
     "execution_count": 14,
     "metadata": {},
     "output_type": "execute_result"
    }
   ],
   "source": [
    "filter(is_adult, ages)"
   ]
  },
  {
   "cell_type": "code",
   "execution_count": 15,
   "id": "b2202502-986c-4649-8ba3-2a43a7449dc4",
   "metadata": {},
   "outputs": [
    {
     "data": {
      "text/plain": [
       "[18, 21, 30]"
      ]
     },
     "execution_count": 15,
     "metadata": {},
     "output_type": "execute_result"
    }
   ],
   "source": [
    "list(filter(is_adult, ages))"
   ]
  },
  {
   "cell_type": "code",
   "execution_count": 16,
   "id": "f9f3cb73-e2a6-4022-b410-fa09f6e8fa41",
   "metadata": {},
   "outputs": [],
   "source": [
    "is_adult = lambda age: age>=18"
   ]
  },
  {
   "cell_type": "code",
   "execution_count": 17,
   "id": "5353285e-3ddc-4cb8-9563-908588cebd8e",
   "metadata": {},
   "outputs": [
    {
     "data": {
      "text/plain": [
       "[18, 21, 30]"
      ]
     },
     "execution_count": 17,
     "metadata": {},
     "output_type": "execute_result"
    }
   ],
   "source": [
    "list(filter(is_adult, ages))"
   ]
  },
  {
   "cell_type": "code",
   "execution_count": 18,
   "id": "a95d3fad-2137-4d44-8ee8-52bb30ba9610",
   "metadata": {},
   "outputs": [],
   "source": [
    "multiplier = lambda x, y: x*y"
   ]
  },
  {
   "cell_type": "code",
   "execution_count": 19,
   "id": "2582385c-6c56-4314-b473-0db21cd6a211",
   "metadata": {},
   "outputs": [
    {
     "data": {
      "text/plain": [
       "6"
      ]
     },
     "execution_count": 19,
     "metadata": {},
     "output_type": "execute_result"
    }
   ],
   "source": [
    "multiplier(2, 3)"
   ]
  },
  {
   "cell_type": "code",
   "execution_count": null,
   "id": "f4cd68f0-4c16-4b9b-b505-e8a5160c152a",
   "metadata": {},
   "outputs": [],
   "source": []
  }
 ],
 "metadata": {
  "kernelspec": {
   "display_name": "Python 3 (ipykernel)",
   "language": "python",
   "name": "python3"
  },
  "language_info": {
   "codemirror_mode": {
    "name": "ipython",
    "version": 3
   },
   "file_extension": ".py",
   "mimetype": "text/x-python",
   "name": "python",
   "nbconvert_exporter": "python",
   "pygments_lexer": "ipython3",
   "version": "3.10.6"
  }
 },
 "nbformat": 4,
 "nbformat_minor": 5
}
