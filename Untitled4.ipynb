{
 "cells": [
  {
   "cell_type": "code",
   "execution_count": 1,
   "id": "0f93fdd0-1ea5-4c61-83c7-81a500f723ad",
   "metadata": {},
   "outputs": [
    {
     "data": {
      "text/plain": [
       "'/home/kamoliddin/Github/Python-experience'"
      ]
     },
     "execution_count": 1,
     "metadata": {},
     "output_type": "execute_result"
    }
   ],
   "source": [
    "pwd #full path to the file"
   ]
  },
  {
   "cell_type": "code",
   "execution_count": 2,
   "id": "d471b745-f72f-4285-be46-7991f7704504",
   "metadata": {},
   "outputs": [
    {
     "name": "stdout",
     "output_type": "stream",
     "text": [
      "Writing sample.txt\n"
     ]
    }
   ],
   "source": [
    "%%writefile sample.txt\n",
    "Name|Phone\n",
    "John;1234\n",
    "Bob;5678\n",
    "Alice;9432\n",
    "#txt file and write to it"
   ]
  },
  {
   "cell_type": "code",
   "execution_count": 5,
   "id": "53802528-ec37-4cb0-bf17-5e4e149d236e",
   "metadata": {},
   "outputs": [
    {
     "data": {
      "text/plain": [
       "<_io.TextIOWrapper name='sample.txt' mode='r' encoding='UTF-8'>"
      ]
     },
     "execution_count": 5,
     "metadata": {},
     "output_type": "execute_result"
    }
   ],
   "source": [
    "file = open(\"sample.txt\")\n",
    "file"
   ]
  },
  {
   "cell_type": "code",
   "execution_count": 10,
   "id": "e06d5105-ea22-4928-a7c3-389afce052c0",
   "metadata": {},
   "outputs": [
    {
     "name": "stdout",
     "output_type": "stream",
     "text": [
      "<class 'str'>\n"
     ]
    }
   ],
   "source": [
    "data = file.read()\n",
    "print(type(data))"
   ]
  },
  {
   "cell_type": "code",
   "execution_count": 7,
   "id": "1cf994cb-ba65-4994-85a8-fa61b1df17cb",
   "metadata": {},
   "outputs": [
    {
     "name": "stdout",
     "output_type": "stream",
     "text": [
      "Name|Phone\n",
      "John;1234\n",
      "Bob;5678\n",
      "Alice;9432\n",
      "\n"
     ]
    }
   ],
   "source": [
    "print(data)\n",
    "#reading the file"
   ]
  },
  {
   "cell_type": "code",
   "execution_count": 8,
   "id": "5dc662ca-3b10-42e9-aa96-ffd67f832683",
   "metadata": {},
   "outputs": [
    {
     "name": "stdout",
     "output_type": "stream",
     "text": [
      "\n"
     ]
    }
   ],
   "source": [
    "print(file.read())"
   ]
  },
  {
   "cell_type": "code",
   "execution_count": 11,
   "id": "03d7ace9-514d-4105-a09d-6db5105c26bf",
   "metadata": {},
   "outputs": [
    {
     "name": "stdout",
     "output_type": "stream",
     "text": [
      "Name|Phone\n",
      "John;1234\n",
      "Bob;5678\n",
      "Alice;9432\n",
      "\n"
     ]
    }
   ],
   "source": [
    "file.seek(0)\n",
    "print(file.read())\n",
    "#read the file again"
   ]
  },
  {
   "cell_type": "code",
   "execution_count": 12,
   "id": "14ecaf6b-5d2b-4428-b931-2bf1d598fd51",
   "metadata": {},
   "outputs": [
    {
     "data": {
      "text/plain": [
       "0"
      ]
     },
     "execution_count": 12,
     "metadata": {},
     "output_type": "execute_result"
    }
   ],
   "source": [
    "file.seek(0)"
   ]
  },
  {
   "cell_type": "code",
   "execution_count": 14,
   "id": "fdd26408-3387-4200-942b-3a83063819d1",
   "metadata": {},
   "outputs": [
    {
     "name": "stdout",
     "output_type": "stream",
     "text": [
      "['Name|Phone\\n', 'John;1234\\n', 'Bob;5678\\n', 'Alice;9432\\n']\n",
      "<class 'list'>\n"
     ]
    }
   ],
   "source": [
    "lines = file.readlines()\n",
    "print(lines)\n",
    "print(type(lines))"
   ]
  },
  {
   "cell_type": "code",
   "execution_count": 15,
   "id": "05b50777-177b-4bc9-a93c-63a5c6514670",
   "metadata": {},
   "outputs": [
    {
     "data": {
      "text/plain": [
       "4"
      ]
     },
     "execution_count": 15,
     "metadata": {},
     "output_type": "execute_result"
    }
   ],
   "source": [
    "len(lines)"
   ]
  },
  {
   "cell_type": "code",
   "execution_count": 18,
   "id": "93a8263a-3816-4c78-8cdb-0936ca6c6cad",
   "metadata": {},
   "outputs": [],
   "source": [
    "semple_file = open(r'/home/kamoliddin/Github/Python-experience/sample.txt')\n",
    "#reading a txt file at another location"
   ]
  },
  {
   "cell_type": "code",
   "execution_count": 19,
   "id": "d9c7991e-4cc9-4e7f-98a0-00745f0e44b3",
   "metadata": {},
   "outputs": [],
   "source": [
    "file.close()\n",
    "semple_file.close()\n",
    "#close the open file"
   ]
  },
  {
   "cell_type": "code",
   "execution_count": 20,
   "id": "6c35f284-83e2-4907-871b-a856e630adc7",
   "metadata": {},
   "outputs": [
    {
     "name": "stdout",
     "output_type": "stream",
     "text": [
      "True\n",
      "True\n"
     ]
    }
   ],
   "source": [
    "print(file.closed)\n",
    "print(semple_file.closed)"
   ]
  },
  {
   "cell_type": "code",
   "execution_count": 21,
   "id": "95a947f3-fb98-4fa0-afef-0ac432fad64d",
   "metadata": {},
   "outputs": [],
   "source": [
    "with open('sample.txt') as semple_file:\n",
    "    semple_data = semple_file.read()"
   ]
  },
  {
   "cell_type": "code",
   "execution_count": 22,
   "id": "38ba6295-fadf-4679-8ee2-745097ce0713",
   "metadata": {},
   "outputs": [
    {
     "name": "stdout",
     "output_type": "stream",
     "text": [
      "Name|Phone\n",
      "John;1234\n",
      "Bob;5678\n",
      "Alice;9432\n",
      "\n"
     ]
    }
   ],
   "source": [
    "print(semple_data)"
   ]
  },
  {
   "cell_type": "code",
   "execution_count": 24,
   "id": "ca41d418-3a89-4af3-931c-e1da3fca25f5",
   "metadata": {},
   "outputs": [],
   "source": [
    "#File Models\n",
    "\n",
    " #mode='r' read onli (eror if writing)\n",
    " #mode='w' write onli (eror if reading, owerwrites exsting file or creates new one)\n",
    " #mode='a' append onli (eror if reading or writing to inexistent file)\n",
    " #mode='r+' reading and writing (eror if writing to inexistent file)\n",
    " #mode='w+' reading and writing (overwrites existing file or creates new one)\n",
    "\n",
    "#trying to read an inexistent file alweys leads to an eror"
   ]
  },
  {
   "cell_type": "code",
   "execution_count": 25,
   "id": "ffd4a5b2-1569-475b-a875-4f7603da0bc7",
   "metadata": {},
   "outputs": [],
   "source": [
    "with open('sample.txt', mode='a') as semple_file:\n",
    "    semple_file.write('Eric;7639')"
   ]
  },
  {
   "cell_type": "code",
   "execution_count": 26,
   "id": "f83e7a45-562f-4a99-9b88-85d00cdc67eb",
   "metadata": {},
   "outputs": [
    {
     "name": "stdout",
     "output_type": "stream",
     "text": [
      "Name|Phone\n",
      "John;1234\n",
      "Bob;5678\n",
      "Alice;9432\n",
      "Eric;7639\n"
     ]
    }
   ],
   "source": [
    "with open('sample.txt', mode='r') as semple_file:\n",
    "    print(semple_file.read())"
   ]
  },
  {
   "cell_type": "code",
   "execution_count": 28,
   "id": "1281e348-9d0a-484e-8c1b-aec8f4af7c51",
   "metadata": {},
   "outputs": [
    {
     "name": "stdout",
     "output_type": "stream",
     "text": [
      "Name|Phone\n",
      "John;1234\n",
      "Bob;5678\n",
      "Alice;9432\n",
      "Eric;7639\n",
      "Toub;4655\n",
      "Toub;4655\n"
     ]
    }
   ],
   "source": [
    "with open('sample.txt', mode='r+') as semple_file:\n",
    "    semple_file.seek(0, 2)\n",
    "    semple_file.write('\\nToub;4655')\n",
    "    semple_file.seek(0)\n",
    "    print(semple_file.read())"
   ]
  },
  {
   "cell_type": "code",
   "execution_count": 29,
   "id": "1d1d1e5f-ba95-46d0-b7a0-e27652a0c2dc",
   "metadata": {},
   "outputs": [
    {
     "name": "stdout",
     "output_type": "stream",
     "text": [
      "hello-hello\n"
     ]
    }
   ],
   "source": [
    "with open('Hello.txt', mode='w+') as semple_file:\n",
    "    semple_file.write('hello-hello')\n",
    "    semple_file.seek(0)\n",
    "    print(semple_file.read())"
   ]
  },
  {
   "cell_type": "code",
   "execution_count": null,
   "id": "4d1bee80-806b-410e-9e38-6eb34a6a8ed2",
   "metadata": {},
   "outputs": [],
   "source": []
  }
 ],
 "metadata": {
  "kernelspec": {
   "display_name": "Python 3 (ipykernel)",
   "language": "python",
   "name": "python3"
  },
  "language_info": {
   "codemirror_mode": {
    "name": "ipython",
    "version": 3
   },
   "file_extension": ".py",
   "mimetype": "text/x-python",
   "name": "python",
   "nbconvert_exporter": "python",
   "pygments_lexer": "ipython3",
   "version": "3.10.6"
  }
 },
 "nbformat": 4,
 "nbformat_minor": 5
}
