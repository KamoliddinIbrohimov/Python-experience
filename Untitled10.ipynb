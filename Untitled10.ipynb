{
 "cells": [
  {
   "cell_type": "code",
   "execution_count": 1,
   "id": "d9aa45dc-5632-48f8-ab7d-c5a6e049816c",
   "metadata": {},
   "outputs": [
    {
     "name": "stdout",
     "output_type": "stream",
     "text": [
      "Indeed, true\n"
     ]
    }
   ],
   "source": [
    "if True:\n",
    "    print('Indeed, true')"
   ]
  },
  {
   "cell_type": "code",
   "execution_count": 2,
   "id": "9e422667-cc78-4f40-bdd8-51b6fb60e576",
   "metadata": {},
   "outputs": [
    {
     "name": "stdout",
     "output_type": "stream",
     "text": [
      "3 is greater then 2\n"
     ]
    }
   ],
   "source": [
    "if 3 >2:\n",
    "    print('3 is greater then 2')"
   ]
  },
  {
   "cell_type": "code",
   "execution_count": 3,
   "id": "69159c77-65ee-4b7b-934a-d726fa956d79",
   "metadata": {},
   "outputs": [],
   "source": [
    "if 3 < 2:\n",
    "    print('3 is greater then 2')"
   ]
  },
  {
   "cell_type": "code",
   "execution_count": 4,
   "id": "b20c8c6d-f334-431e-906d-b04e1af313cb",
   "metadata": {},
   "outputs": [
    {
     "name": "stdin",
     "output_type": "stream",
     "text": [
      " Protes\n"
     ]
    },
    {
     "name": "stdout",
     "output_type": "stream",
     "text": [
      "Protes is the most powerful race\n"
     ]
    }
   ],
   "source": [
    "selected_character = input()\n",
    "\n",
    "if selected_character == 'Protes':\n",
    "    print('Protes is the most powerful race')\n",
    "elif selected_character == 'Zerg':\n",
    "    print('Zerg is the most weak race but it spreads like a plague')\n",
    "else:\n",
    "    print('Hmm... it seems we have a new race.')"
   ]
  },
  {
   "cell_type": "code",
   "execution_count": null,
   "id": "3953a574-8ba8-4ee6-b9b4-54a8ec07f81c",
   "metadata": {},
   "outputs": [],
   "source": []
  }
 ],
 "metadata": {
  "kernelspec": {
   "display_name": "Python 3 (ipykernel)",
   "language": "python",
   "name": "python3"
  },
  "language_info": {
   "codemirror_mode": {
    "name": "ipython",
    "version": 3
   },
   "file_extension": ".py",
   "mimetype": "text/x-python",
   "name": "python",
   "nbconvert_exporter": "python",
   "pygments_lexer": "ipython3",
   "version": "3.10.6"
  }
 },
 "nbformat": 4,
 "nbformat_minor": 5
}
