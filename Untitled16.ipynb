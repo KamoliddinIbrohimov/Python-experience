{
 "cells": [
  {
   "cell_type": "code",
   "execution_count": 1,
   "id": "ddc50a16-6d26-433a-ad75-b4ba463eb816",
   "metadata": {},
   "outputs": [
    {
     "data": {
      "text/plain": [
       "1"
      ]
     },
     "execution_count": 1,
     "metadata": {},
     "output_type": "execute_result"
    }
   ],
   "source": [
    "abs(-1)\n",
    "abs(1)\n",
    "#under the module"
   ]
  },
  {
   "cell_type": "code",
   "execution_count": 2,
   "id": "150cde87-9e77-454c-a836-d7217a7f15fe",
   "metadata": {},
   "outputs": [
    {
     "data": {
      "text/plain": [
       "5"
      ]
     },
     "execution_count": 2,
     "metadata": {},
     "output_type": "execute_result"
    }
   ],
   "source": [
    "max(1,2,3,4,5)"
   ]
  },
  {
   "cell_type": "code",
   "execution_count": 3,
   "id": "2e6ffcb0-aa36-4b61-9dfb-0207f61a535f",
   "metadata": {},
   "outputs": [
    {
     "data": {
      "text/plain": [
       "1"
      ]
     },
     "execution_count": 3,
     "metadata": {},
     "output_type": "execute_result"
    }
   ],
   "source": [
    "min([1,2,3,4])"
   ]
  },
  {
   "cell_type": "code",
   "execution_count": 4,
   "id": "a3f97533-34fc-4e25-8698-c3710250872c",
   "metadata": {},
   "outputs": [
    {
     "data": {
      "text/plain": [
       "256"
      ]
     },
     "execution_count": 4,
     "metadata": {},
     "output_type": "execute_result"
    }
   ],
   "source": [
    "pow(2, 8)\n",
    "#raise the number to a degree"
   ]
  },
  {
   "cell_type": "code",
   "execution_count": 5,
   "id": "d8df6171-5eeb-46fc-8b4c-b72ab6f5385f",
   "metadata": {},
   "outputs": [
    {
     "data": {
      "text/plain": [
       "3.7"
      ]
     },
     "execution_count": 5,
     "metadata": {},
     "output_type": "execute_result"
    }
   ],
   "source": [
    "round(3.71, 1)\n",
    "#to round off"
   ]
  },
  {
   "cell_type": "code",
   "execution_count": 6,
   "id": "54447f45-0ce2-419e-a1ba-d38c2be4366b",
   "metadata": {},
   "outputs": [
    {
     "data": {
      "text/plain": [
       "15"
      ]
     },
     "execution_count": 6,
     "metadata": {},
     "output_type": "execute_result"
    }
   ],
   "source": [
    "sum([1,2,3,4,5])\n",
    "#adding numbers"
   ]
  },
  {
   "cell_type": "code",
   "execution_count": 1,
   "id": "1e958acd-f61d-4926-b5b4-1abcdf754e37",
   "metadata": {},
   "outputs": [
    {
     "name": "stdout",
     "output_type": "stream",
     "text": [
      "0x2a\n",
      "0o52\n",
      "0b101010\n"
     ]
    }
   ],
   "source": [
    "h = hex(42)\n",
    "o = oct(42)\n",
    "b = bin(42)\n",
    "\n",
    "print(h)\n",
    "print(o)\n",
    "print(b)"
   ]
  },
  {
   "cell_type": "code",
   "execution_count": 3,
   "id": "10a2ac61-9a7a-4e96-910d-bb91b3334258",
   "metadata": {},
   "outputs": [
    {
     "name": "stdout",
     "output_type": "stream",
     "text": [
      "True\n",
      "False\n"
     ]
    }
   ],
   "source": [
    "all_true1 = all([True, True, True])\n",
    "all_true2 = all([True, False, True])\n",
    "\n",
    "print(all_true1)\n",
    "print(all_true2)"
   ]
  },
  {
   "cell_type": "code",
   "execution_count": 1,
   "id": "c5dd27cd-d810-47cb-9ec8-9be7493872da",
   "metadata": {},
   "outputs": [],
   "source": [
    "players = [('Carlsen', 2842), ('Caruana', 2822),\n",
    "          ('Mamedyarov', 2801), ('Ding', 2797),\n",
    "          ('Giri', 2780)]"
   ]
  },
  {
   "cell_type": "code",
   "execution_count": 6,
   "id": "da6ccd90-a89a-439b-b7e6-b3eeea534cbf",
   "metadata": {},
   "outputs": [
    {
     "data": {
      "text/plain": [
       "True"
      ]
     },
     "execution_count": 6,
     "metadata": {},
     "output_type": "execute_result"
    }
   ],
   "source": [
    "all(rating > 2700 for _, rating in players)"
   ]
  },
  {
   "cell_type": "code",
   "execution_count": 7,
   "id": "e60b1223-280f-4b20-8906-1d656e59db8c",
   "metadata": {},
   "outputs": [
    {
     "data": {
      "text/plain": [
       "False"
      ]
     },
     "execution_count": 7,
     "metadata": {},
     "output_type": "execute_result"
    }
   ],
   "source": [
    "all(rating > 2800 for _, rating in players)"
   ]
  },
  {
   "cell_type": "code",
   "execution_count": 8,
   "id": "fc87d030-55bc-4b98-94b0-e53a7459130c",
   "metadata": {},
   "outputs": [
    {
     "data": {
      "text/plain": [
       "True"
      ]
     },
     "execution_count": 8,
     "metadata": {},
     "output_type": "execute_result"
    }
   ],
   "source": [
    "all([rating > 2700 for _, rating in players])"
   ]
  },
  {
   "cell_type": "code",
   "execution_count": 9,
   "id": "ad446695-3ccf-441c-a064-58c1220bb62b",
   "metadata": {},
   "outputs": [
    {
     "name": "stdout",
     "output_type": "stream",
     "text": [
      "True\n",
      "False\n"
     ]
    }
   ],
   "source": [
    "any_true1 = any([False,False,True])\n",
    "any_true2 = any([False,False,False])\n",
    "\n",
    "print(any_true1)\n",
    "print(any_true2)"
   ]
  },
  {
   "cell_type": "code",
   "execution_count": 10,
   "id": "0e6d2ee6-47f7-49dd-a2e6-2a24836d575e",
   "metadata": {},
   "outputs": [],
   "source": [
    "players = [('Carlsen', 2842), ('Caruana', 2822),\n",
    "          ('Mamedyarov', 2801), ('Ding', 2797),\n",
    "          ('Giri', 2780)]"
   ]
  },
  {
   "cell_type": "code",
   "execution_count": 11,
   "id": "1ba90c16-7524-4acc-9739-b58d034e1a54",
   "metadata": {},
   "outputs": [
    {
     "data": {
      "text/plain": [
       "True"
      ]
     },
     "execution_count": 11,
     "metadata": {},
     "output_type": "execute_result"
    }
   ],
   "source": [
    "any(rating < 2790 for _, rating in players)"
   ]
  },
  {
   "cell_type": "code",
   "execution_count": 13,
   "id": "f736a600-ee03-42d6-b13d-013caaab827c",
   "metadata": {},
   "outputs": [
    {
     "data": {
      "text/plain": [
       "True"
      ]
     },
     "execution_count": 13,
     "metadata": {},
     "output_type": "execute_result"
    }
   ],
   "source": [
    "any(rating < 2800 for _, rating in players)"
   ]
  },
  {
   "cell_type": "code",
   "execution_count": 14,
   "id": "886ede4a-c71a-433b-92ae-f695cfc3eb7a",
   "metadata": {},
   "outputs": [
    {
     "name": "stdout",
     "output_type": "stream",
     "text": [
      "<class 'zip'>\n",
      "<zip object at 0x7fc9503f92c0>\n",
      "[('a', 10), ('b', 20), ('c', 30)]\n"
     ]
    }
   ],
   "source": [
    "letters = 'abcd'\n",
    "numbers = (10, 20, 30)\n",
    "\n",
    "zipped = zip(letters, numbers)\n",
    "print(type(zipped))\n",
    "print(zipped)\n",
    "\n",
    "zipped_list = list(zipped)\n",
    "print(zipped_list)"
   ]
  },
  {
   "cell_type": "code",
   "execution_count": 15,
   "id": "3e981c83-2a13-49e8-a33e-cc178d6e2428",
   "metadata": {},
   "outputs": [
    {
     "data": {
      "text/plain": [
       "{'Carlsen': 2842,\n",
       " 'Caruana': 2822,\n",
       " 'Mamedyarov': 2801,\n",
       " 'Ding': 2797,\n",
       " 'Giri': 2780}"
      ]
     },
     "execution_count": 15,
     "metadata": {},
     "output_type": "execute_result"
    }
   ],
   "source": [
    "names = ['Carlsen', 'Caruana', 'Mamedyarov', 'Ding', 'Giri']\n",
    "ratings = [2842, 2822, 2801, 2797, 2780]\n",
    "\n",
    "players = dict(zip(names, ratings))\n",
    "players               "
   ]
  },
  {
   "cell_type": "code",
   "execution_count": 16,
   "id": "5fe59c4f-6c97-421c-90f7-e3cd70fd1f4b",
   "metadata": {},
   "outputs": [
    {
     "name": "stdin",
     "output_type": "stream",
     "text": [
      " Hello\n"
     ]
    },
    {
     "data": {
      "text/plain": [
       "'Hello'"
      ]
     },
     "execution_count": 16,
     "metadata": {},
     "output_type": "execute_result"
    }
   ],
   "source": [
    "reply = input()\n",
    "reply"
   ]
  },
  {
   "cell_type": "code",
   "execution_count": 17,
   "id": "f465474d-1561-4945-81ca-d72fd1488d89",
   "metadata": {},
   "outputs": [
    {
     "data": {
      "text/plain": [
       "97"
      ]
     },
     "execution_count": 17,
     "metadata": {},
     "output_type": "execute_result"
    }
   ],
   "source": [
    "code = ord('a')\n",
    "code"
   ]
  },
  {
   "cell_type": "code",
   "execution_count": 18,
   "id": "3f0c380b-03e3-4c0d-b3ac-9b8f8f38085d",
   "metadata": {},
   "outputs": [],
   "source": [
    "c = chr(code)"
   ]
  },
  {
   "cell_type": "code",
   "execution_count": 19,
   "id": "464cc620-32ef-4ca5-972f-83df11a0e2eb",
   "metadata": {},
   "outputs": [
    {
     "data": {
      "text/plain": [
       "'a'"
      ]
     },
     "execution_count": 19,
     "metadata": {},
     "output_type": "execute_result"
    }
   ],
   "source": [
    "c"
   ]
  },
  {
   "cell_type": "code",
   "execution_count": null,
   "id": "4142d110-038f-40e2-869a-efd2f1346048",
   "metadata": {},
   "outputs": [],
   "source": []
  }
 ],
 "metadata": {
  "kernelspec": {
   "display_name": "Python 3 (ipykernel)",
   "language": "python",
   "name": "python3"
  },
  "language_info": {
   "codemirror_mode": {
    "name": "ipython",
    "version": 3
   },
   "file_extension": ".py",
   "mimetype": "text/x-python",
   "name": "python",
   "nbconvert_exporter": "python",
   "pygments_lexer": "ipython3",
   "version": "3.10.6"
  }
 },
 "nbformat": 4,
 "nbformat_minor": 5
}
