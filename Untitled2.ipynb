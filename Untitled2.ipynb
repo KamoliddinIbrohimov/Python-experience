{
 "cells": [
  {
   "cell_type": "code",
   "execution_count": 3,
   "id": "47bbed7b-43ae-4562-96f6-f6c1353d9cab",
   "metadata": {},
   "outputs": [
    {
     "name": "stdout",
     "output_type": "stream",
     "text": [
      "My name is Elies\n"
     ]
    }
   ],
   "source": [
    "print(\"My name is {}\".format(\"Elies\"))"
   ]
  },
  {
   "cell_type": "code",
   "execution_count": 4,
   "id": "b784ed4e-673b-4916-9221-9851785f01ee",
   "metadata": {},
   "outputs": [
    {
     "name": "stdout",
     "output_type": "stream",
     "text": [
      "My name is Elies\n"
     ]
    }
   ],
   "source": [
    "my_name=\"Elies\"\n",
    "print(\"My name is {}\".format(my_name))"
   ]
  },
  {
   "cell_type": "code",
   "execution_count": 5,
   "id": "7857ac36-a536-42ee-9333-febab181a3d4",
   "metadata": {},
   "outputs": [
    {
     "name": "stdout",
     "output_type": "stream",
     "text": [
      "My name is Elies and I'm 21\n"
     ]
    }
   ],
   "source": [
    "print(\"My name is {} and I'm {}\".format(\"Elies\", 21))"
   ]
  },
  {
   "cell_type": "code",
   "execution_count": 6,
   "id": "d6eef588-cfbf-4d26-ae31-8ce8a7903682",
   "metadata": {},
   "outputs": [
    {
     "name": "stdout",
     "output_type": "stream",
     "text": [
      "My name is 21 and I'm Elies\n"
     ]
    }
   ],
   "source": [
    "print(\"My name is {1} and I'm {0}\".format(\"Elies\", 21))"
   ]
  },
  {
   "cell_type": "code",
   "execution_count": 7,
   "id": "0208d674-3feb-4cbe-bf0f-f5bc659f5836",
   "metadata": {},
   "outputs": [
    {
     "data": {
      "text/plain": [
       "3.1415"
      ]
     },
     "execution_count": 7,
     "metadata": {},
     "output_type": "execute_result"
    }
   ],
   "source": [
    "pi=3.1415\n",
    "pi"
   ]
  },
  {
   "cell_type": "code",
   "execution_count": 8,
   "id": "d1475aa1-760c-4e01-a575-68db4114d591",
   "metadata": {},
   "outputs": [
    {
     "name": "stdout",
     "output_type": "stream",
     "text": [
      "Pi equals 3.14\n"
     ]
    }
   ],
   "source": [
    "print(\"Pi equals {pi:1.2f}\".format(pi=pi))"
   ]
  },
  {
   "cell_type": "code",
   "execution_count": 9,
   "id": "bb02f2dc-c7e4-4141-8bb6-1957b87db11e",
   "metadata": {},
   "outputs": [
    {
     "name": "stdout",
     "output_type": "stream",
     "text": [
      "Pi equals 3.14\n"
     ]
    }
   ],
   "source": [
    "print(\"Pi equals {pi:2.2f}\".format(pi=pi))"
   ]
  },
  {
   "cell_type": "code",
   "execution_count": 10,
   "id": "c826d7e2-db0c-444d-993d-2fa28a36a7be",
   "metadata": {},
   "outputs": [
    {
     "name": "stdout",
     "output_type": "stream",
     "text": [
      "Pi equals 3.14\n"
     ]
    }
   ],
   "source": [
    "print(\"Pi equals {pi:3.2f}\".format(pi=pi))"
   ]
  },
  {
   "cell_type": "code",
   "execution_count": 11,
   "id": "57a60394-6e72-4925-b7d8-f5fa51acb860",
   "metadata": {},
   "outputs": [
    {
     "name": "stdout",
     "output_type": "stream",
     "text": [
      "Pi equals 3.14\n"
     ]
    }
   ],
   "source": [
    "print(\"Pi equals {pi:4.2f}\".format(pi=pi))"
   ]
  },
  {
   "cell_type": "code",
   "execution_count": 12,
   "id": "4c705536-28e2-4fd4-abd9-1a144eec24d0",
   "metadata": {},
   "outputs": [
    {
     "name": "stdout",
     "output_type": "stream",
     "text": [
      "Pi equals 3.14\n"
     ]
    }
   ],
   "source": [
    "print(\"Pi equals {pi:.2f}\".format(pi=pi))"
   ]
  },
  {
   "cell_type": "code",
   "execution_count": 14,
   "id": "1dc930b1-80b6-4cc9-acfa-43cfffda4cc1",
   "metadata": {},
   "outputs": [
    {
     "name": "stdout",
     "output_type": "stream",
     "text": [
      "Pi equals      3.14\n"
     ]
    }
   ],
   "source": [
    "print(\"Pi equals {pi:9.2f}\".format(pi=pi))"
   ]
  },
  {
   "cell_type": "code",
   "execution_count": 17,
   "id": "dc5e8f25-2736-4880-9af1-6e08238ea906",
   "metadata": {},
   "outputs": [
    {
     "name": "stdout",
     "output_type": "stream",
     "text": [
      "My name is Elies and I'am 21\n"
     ]
    }
   ],
   "source": [
    "name = \"Elies\"\n",
    "age = 21\n",
    "print(f\"My name is {name} and I'am {age}\")"
   ]
  },
  {
   "cell_type": "code",
   "execution_count": 18,
   "id": "cb65f30d-f720-4ee0-9b0c-a3e22cafb77e",
   "metadata": {},
   "outputs": [
    {
     "name": "stdout",
     "output_type": "stream",
     "text": [
      "Pi equals   3.14\n"
     ]
    }
   ],
   "source": [
    "print(f\"Pi equals {pi:6.2f}\")"
   ]
  },
  {
   "cell_type": "code",
   "execution_count": 19,
   "id": "362dbeda-c7be-4aed-be12-e90179ca02e3",
   "metadata": {},
   "outputs": [],
   "source": [
    "#https://pythonworld.ru/osnovy/formatirovanie-strok-metod-format.html\n"
   ]
  },
  {
   "cell_type": "code",
   "execution_count": null,
   "id": "ef298f2f-423f-4def-8b00-d3056b8eb93b",
   "metadata": {},
   "outputs": [],
   "source": []
  }
 ],
 "metadata": {
  "kernelspec": {
   "display_name": "Python 3 (ipykernel)",
   "language": "python",
   "name": "python3"
  },
  "language_info": {
   "codemirror_mode": {
    "name": "ipython",
    "version": 3
   },
   "file_extension": ".py",
   "mimetype": "text/x-python",
   "name": "python",
   "nbconvert_exporter": "python",
   "pygments_lexer": "ipython3",
   "version": "3.10.6"
  }
 },
 "nbformat": 4,
 "nbformat_minor": 5
}
